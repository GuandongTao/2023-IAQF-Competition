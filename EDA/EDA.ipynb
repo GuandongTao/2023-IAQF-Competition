{
 "cells": [
  {
   "cell_type": "code",
   "execution_count": 2,
   "id": "a4b09770",
   "metadata": {},
   "outputs": [],
   "source": [
    "# Preliminaries\n",
    "from IPython.core.interactiveshell import InteractiveShell\n",
    "InteractiveShell.ast_node_interactivity = \"all\"\n",
    "\n",
    "# Reload all modules imported with %aimport\n",
    "%load_ext autoreload\n",
    "%autoreload 1\n",
    "\n",
    "# disable warnings\n",
    "import warnings\n",
    "warnings.filterwarnings('ignore')\n"
   ]
  },
  {
   "cell_type": "code",
   "execution_count": 16,
   "id": "51a80202",
   "metadata": {},
   "outputs": [],
   "source": [
    "import numpy as np\n",
    "import pandas as pd\n",
    "\n",
    "import matplotlib.pyplot as plt\n",
    "%matplotlib inline\n",
    "import seaborn as sns; sns.set()\n",
    "\n",
    "from scipy import stats\n",
    "from statsmodels.tsa.stattools import adfuller\n",
    "from statsmodels.stats.diagnostic import acorr_ljungbox\n",
    "from statsmodels.stats.diagnostic import het_arch\n",
    "from statsmodels.tsa.stattools import coint"
   ]
  },
  {
   "cell_type": "code",
   "execution_count": 4,
   "id": "3283ee39",
   "metadata": {},
   "outputs": [],
   "source": [
    "# func for loading data, pase time as index, drop nan rows\n",
    "def loadData(ticker, root):\n",
    "    \"\"\"\n",
    "    Automate data loading process: loading, parse time as index, drop nan rows\n",
    "    Input: ticker(str), root(default to data storage folder)\n",
    "    output: df for each ticker\n",
    "    \"\"\"\n",
    "    # load\n",
    "    df = pd.read_csv(root + f'{ticker}.csv', index_col='Date', parse_dates=True)\n",
    "    # drop nan rows\n",
    "    df.dropna(axis=0, inplace=True)\n",
    "    \n",
    "    return df\n"
   ]
  },
  {
   "cell_type": "code",
   "execution_count": 5,
   "id": "87947f51",
   "metadata": {},
   "outputs": [
    {
     "data": {
      "text/html": [
       "<div>\n",
       "<style scoped>\n",
       "    .dataframe tbody tr th:only-of-type {\n",
       "        vertical-align: middle;\n",
       "    }\n",
       "\n",
       "    .dataframe tbody tr th {\n",
       "        vertical-align: top;\n",
       "    }\n",
       "\n",
       "    .dataframe thead th {\n",
       "        text-align: right;\n",
       "    }\n",
       "</style>\n",
       "<table border=\"1\" class=\"dataframe\">\n",
       "  <thead>\n",
       "    <tr style=\"text-align: right;\">\n",
       "      <th></th>\n",
       "      <th>spx</th>\n",
       "      <th>rut</th>\n",
       "    </tr>\n",
       "    <tr>\n",
       "      <th>Date</th>\n",
       "      <th></th>\n",
       "      <th></th>\n",
       "    </tr>\n",
       "  </thead>\n",
       "  <tbody>\n",
       "    <tr>\n",
       "      <th>2013-01-28</th>\n",
       "      <td>1500.18</td>\n",
       "      <td>906.71</td>\n",
       "    </tr>\n",
       "    <tr>\n",
       "      <th>2013-01-29</th>\n",
       "      <td>1507.84</td>\n",
       "      <td>907.31</td>\n",
       "    </tr>\n",
       "    <tr>\n",
       "      <th>2013-01-30</th>\n",
       "      <td>1501.96</td>\n",
       "      <td>896.91</td>\n",
       "    </tr>\n",
       "    <tr>\n",
       "      <th>2013-01-31</th>\n",
       "      <td>1498.11</td>\n",
       "      <td>902.09</td>\n",
       "    </tr>\n",
       "    <tr>\n",
       "      <th>2013-02-01</th>\n",
       "      <td>1513.17</td>\n",
       "      <td>911.20</td>\n",
       "    </tr>\n",
       "    <tr>\n",
       "      <th>...</th>\n",
       "      <td>...</td>\n",
       "      <td>...</td>\n",
       "    </tr>\n",
       "    <tr>\n",
       "      <th>2023-01-19</th>\n",
       "      <td>3898.85</td>\n",
       "      <td>1836.35</td>\n",
       "    </tr>\n",
       "    <tr>\n",
       "      <th>2023-01-20</th>\n",
       "      <td>3972.61</td>\n",
       "      <td>1867.34</td>\n",
       "    </tr>\n",
       "    <tr>\n",
       "      <th>2023-01-23</th>\n",
       "      <td>4019.81</td>\n",
       "      <td>1890.77</td>\n",
       "    </tr>\n",
       "    <tr>\n",
       "      <th>2023-01-24</th>\n",
       "      <td>4016.95</td>\n",
       "      <td>1885.61</td>\n",
       "    </tr>\n",
       "    <tr>\n",
       "      <th>2023-01-25</th>\n",
       "      <td>4016.22</td>\n",
       "      <td>1890.32</td>\n",
       "    </tr>\n",
       "  </tbody>\n",
       "</table>\n",
       "<p>2517 rows × 2 columns</p>\n",
       "</div>"
      ],
      "text/plain": [
       "                spx      rut\n",
       "Date                        \n",
       "2013-01-28  1500.18   906.71\n",
       "2013-01-29  1507.84   907.31\n",
       "2013-01-30  1501.96   896.91\n",
       "2013-01-31  1498.11   902.09\n",
       "2013-02-01  1513.17   911.20\n",
       "...             ...      ...\n",
       "2023-01-19  3898.85  1836.35\n",
       "2023-01-20  3972.61  1867.34\n",
       "2023-01-23  4019.81  1890.77\n",
       "2023-01-24  4016.95  1885.61\n",
       "2023-01-25  4016.22  1890.32\n",
       "\n",
       "[2517 rows x 2 columns]"
      ]
     },
     "execution_count": 5,
     "metadata": {},
     "output_type": "execute_result"
    }
   ],
   "source": [
    "# load data\n",
    "rut = loadData('RUT', 'C:/Users/Allen/Desktop/IAQF/Data/').rename(columns={\"Close\":\"rut\"})\n",
    "spx = loadData('SPX', 'C:/Users/Allen/Desktop/IAQF/Data/').rename(columns={\"Close\":\"spx\"})\n",
    "df = spx.merge(rut, how='outer', left_index=True, right_index=True)\n",
    "df.dropna(axis=0, inplace=True)\n",
    "df"
   ]
  },
  {
   "cell_type": "code",
   "execution_count": 6,
   "id": "67f96925",
   "metadata": {},
   "outputs": [
    {
     "data": {
      "text/plain": [
       "<AxesSubplot: xlabel='Date'>"
      ]
     },
     "execution_count": 6,
     "metadata": {},
     "output_type": "execute_result"
    },
    {
     "data": {
      "image/png": "[encoded data removed]",
      "text/plain": [
       "<Figure size 640x480 with 1 Axes>"
      ]
     },
     "metadata": {},
     "output_type": "display_data"
    }
   ],
   "source": [
    "df.plot()"
   ]
  },
  {
   "cell_type": "code",
   "execution_count": 15,
   "id": "8b940af9",
   "metadata": {},
   "outputs": [
    {
     "data": {
      "text/plain": [
       "<AxesSubplot: xlabel='Date'>"
      ]
     },
     "execution_count": 15,
     "metadata": {},
     "output_type": "execute_result"
    },
    {
     "data": {
      "image/png": "[encoded data removed]",
      "text/plain": [
       "<Figure size 640x480 with 1 Axes>"
      ]
     },
     "metadata": {},
     "output_type": "display_data"
    }
   ],
   "source": [
    "(df.iloc[:,0] - df.iloc[:,1]).plot()"
   ]
  },
  {
   "cell_type": "code",
   "execution_count": 22,
   "id": "a19b99de",
   "metadata": {},
   "outputs": [],
   "source": [
    "# correlation\n",
    "def correlation(df):\n",
    "    return df['spx'].corr(df['rut'])\n",
    "\n",
    "# Jarque Bera test for normality\n",
    "# if diff follow normal dist, small p val == normal (i.e. skweness and kurtosis = 0)\n",
    "def check_normal(df):\n",
    "    return stats.jarque_bera(df.iloc[:,0] - df.iloc[:,1])\n",
    "\n",
    "# Augmented Dickey-Fuller test for stationarity (only return test statistic and p val)\n",
    "# small p val == stationary\n",
    "def check_stationary(df):\n",
    "    return [adfuller(df.iloc[:,0])[:2], adfuller(df.iloc[:,1])[:2]]\n",
    "\n",
    "# check for cointegration\n",
    "# return t stats and p value\n",
    "def check_cointegration(df):\n",
    "    return coint(df.iloc[:,0], df.iloc[:,1])[:2]\n",
    "\n",
    "# ljung-box test for autocorrelation \n",
    "# small p val == autocorrelation\n",
    "def check_autocorrelation(df):\n",
    "    return [[acorr_ljungbox(df.iloc[:,0], lags=[1], return_df=True).iloc[0,0], \n",
    "             acorr_ljungbox(df.iloc[:,0], lags=[1], return_df=True).iloc[0,1]], \n",
    "            [acorr_ljungbox(df.iloc[:,1], lags=[1], return_df=True).iloc[0,0], \n",
    "             acorr_ljungbox(df.iloc[:,1], lags=[1], return_df=True).iloc[0,1]]]\n",
    "\n",
    "# Engle's test for ARCH (only return lagrange multiplier test stat and p val)\n",
    "# small p val == ARCH effect present\n",
    "def check_arch(df):\n",
    "    return [het_arch(df.iloc[:,0])[:2], het_arch(df.iloc[:,1])[:2]]\n"
   ]
  },
  {
   "cell_type": "code",
   "execution_count": 8,
   "id": "8e6de3df",
   "metadata": {},
   "outputs": [
    {
     "data": {
      "text/plain": [
       "0.9546751891778165"
      ]
     },
     "execution_count": 8,
     "metadata": {},
     "output_type": "execute_result"
    }
   ],
   "source": [
    "correlation(df)"
   ]
  },
  {
   "cell_type": "code",
   "execution_count": 9,
   "id": "eab3ebee",
   "metadata": {},
   "outputs": [
    {
     "data": {
      "text/plain": [
       "Jarque_beraResult(statistic=271.6105341398111, pvalue=0.0)"
      ]
     },
     "execution_count": 9,
     "metadata": {},
     "output_type": "execute_result"
    }
   ],
   "source": [
    "check_normal(df)\n",
    "# normal dist"
   ]
  },
  {
   "cell_type": "code",
   "execution_count": 10,
   "id": "3570cb96",
   "metadata": {},
   "outputs": [
    {
     "data": {
      "text/plain": [
       "[(-0.8785868432220219, 0.7949422697274001),\n",
       " (-1.6126901271473368, 0.47656360346558674)]"
      ]
     },
     "execution_count": 10,
     "metadata": {},
     "output_type": "execute_result"
    }
   ],
   "source": [
    "check_stationary(df)\n",
    "# non-stationary"
   ]
  },
  {
   "cell_type": "code",
   "execution_count": 28,
   "id": "db2c5a89",
   "metadata": {},
   "outputs": [
    {
     "data": {
      "text/html": [
       "<div>\n",
       "<style scoped>\n",
       "    .dataframe tbody tr th:only-of-type {\n",
       "        vertical-align: middle;\n",
       "    }\n",
       "\n",
       "    .dataframe tbody tr th {\n",
       "        vertical-align: top;\n",
       "    }\n",
       "\n",
       "    .dataframe thead th {\n",
       "        text-align: right;\n",
       "    }\n",
       "</style>\n",
       "<table border=\"1\" class=\"dataframe\">\n",
       "  <thead>\n",
       "    <tr style=\"text-align: right;\">\n",
       "      <th></th>\n",
       "      <th>spx</th>\n",
       "      <th>rut</th>\n",
       "    </tr>\n",
       "    <tr>\n",
       "      <th>Date</th>\n",
       "      <th></th>\n",
       "      <th></th>\n",
       "    </tr>\n",
       "  </thead>\n",
       "  <tbody>\n",
       "    <tr>\n",
       "      <th>2013-01-28</th>\n",
       "      <td>1500.18</td>\n",
       "      <td>906.71</td>\n",
       "    </tr>\n",
       "    <tr>\n",
       "      <th>2013-01-29</th>\n",
       "      <td>1507.84</td>\n",
       "      <td>907.31</td>\n",
       "    </tr>\n",
       "    <tr>\n",
       "      <th>2013-01-30</th>\n",
       "      <td>1501.96</td>\n",
       "      <td>896.91</td>\n",
       "    </tr>\n",
       "    <tr>\n",
       "      <th>2013-01-31</th>\n",
       "      <td>1498.11</td>\n",
       "      <td>902.09</td>\n",
       "    </tr>\n",
       "    <tr>\n",
       "      <th>2013-02-01</th>\n",
       "      <td>1513.17</td>\n",
       "      <td>911.20</td>\n",
       "    </tr>\n",
       "    <tr>\n",
       "      <th>...</th>\n",
       "      <td>...</td>\n",
       "      <td>...</td>\n",
       "    </tr>\n",
       "    <tr>\n",
       "      <th>2018-12-24</th>\n",
       "      <td>2351.10</td>\n",
       "      <td>1266.92</td>\n",
       "    </tr>\n",
       "    <tr>\n",
       "      <th>2018-12-26</th>\n",
       "      <td>2467.70</td>\n",
       "      <td>1329.81</td>\n",
       "    </tr>\n",
       "    <tr>\n",
       "      <th>2018-12-27</th>\n",
       "      <td>2488.83</td>\n",
       "      <td>1331.82</td>\n",
       "    </tr>\n",
       "    <tr>\n",
       "      <th>2018-12-28</th>\n",
       "      <td>2485.74</td>\n",
       "      <td>1337.92</td>\n",
       "    </tr>\n",
       "    <tr>\n",
       "      <th>2018-12-31</th>\n",
       "      <td>2506.85</td>\n",
       "      <td>1348.56</td>\n",
       "    </tr>\n",
       "  </tbody>\n",
       "</table>\n",
       "<p>1493 rows × 2 columns</p>\n",
       "</div>"
      ],
      "text/plain": [
       "                spx      rut\n",
       "Date                        \n",
       "2013-01-28  1500.18   906.71\n",
       "2013-01-29  1507.84   907.31\n",
       "2013-01-30  1501.96   896.91\n",
       "2013-01-31  1498.11   902.09\n",
       "2013-02-01  1513.17   911.20\n",
       "...             ...      ...\n",
       "2018-12-24  2351.10  1266.92\n",
       "2018-12-26  2467.70  1329.81\n",
       "2018-12-27  2488.83  1331.82\n",
       "2018-12-28  2485.74  1337.92\n",
       "2018-12-31  2506.85  1348.56\n",
       "\n",
       "[1493 rows x 2 columns]"
      ]
     },
     "execution_count": 28,
     "metadata": {},
     "output_type": "execute_result"
    }
   ],
   "source": [
    "df[:\"2019-01-01\"]"
   ]
  },
  {
   "cell_type": "code",
   "execution_count": 30,
   "id": "d7f190d6",
   "metadata": {},
   "outputs": [
    {
     "data": {
      "text/plain": [
       "(-2.3446711951229084, 0.35148680772403185)"
      ]
     },
     "execution_count": 30,
     "metadata": {},
     "output_type": "execute_result"
    },
    {
     "data": {
      "text/plain": [
       "(-1.8422512151522676, 0.6089815334211228)"
      ]
     },
     "execution_count": 30,
     "metadata": {},
     "output_type": "execute_result"
    }
   ],
   "source": [
    "check_cointegration(df)\n",
    "# no cointegration for full data set\n",
    "\n",
    "check_cointegration(df[:\"2020-01-01\"])\n",
    "# no cointegration for partial data set prior to the pandemic"
   ]
  },
  {
   "cell_type": "code",
   "execution_count": 10,
   "id": "d6d556e9",
   "metadata": {},
   "outputs": [
    {
     "data": {
      "text/plain": [
       "[[2512.0942626965702, 0.0], [2508.015775014515, 0.0]]"
      ]
     },
     "execution_count": 10,
     "metadata": {},
     "output_type": "execute_result"
    }
   ],
   "source": [
    "check_autocorrelation(df)\n",
    "# autocorrelated"
   ]
  },
  {
   "cell_type": "code",
   "execution_count": 11,
   "id": "628149a4",
   "metadata": {},
   "outputs": [
    {
     "data": {
      "text/plain": [
       "[(2502.4781182988913, 0.0), (2497.8509657122822, 0.0)]"
      ]
     },
     "execution_count": 11,
     "metadata": {},
     "output_type": "execute_result"
    }
   ],
   "source": [
    "check_arch(df)\n",
    "# arch effect present (i.e. clustering of vo)"
   ]
  },
  {
   "cell_type": "code",
   "execution_count": null,
   "id": "16aa5c63",
   "metadata": {},
   "outputs": [],
   "source": []
  }
 ],
 "metadata": {
  "kernelspec": {
   "display_name": "Python 3 (ipykernel)",
   "language": "python",
   "name": "python3"
  },
  "language_info": {
   "codemirror_mode": {
    "name": "ipython",
    "version": 3
   },
   "file_extension": ".py",
   "mimetype": "text/x-python",
   "name": "python",
   "nbconvert_exporter": "python",
   "pygments_lexer": "ipython3",
   "version": "3.9.13"
  }
 },
 "nbformat": 4,
 "nbformat_minor": 5
}
