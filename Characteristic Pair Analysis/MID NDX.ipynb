{
 "cells": [
  {
   "cell_type": "code",
   "execution_count": 1,
   "id": "b398b949",
   "metadata": {},
   "outputs": [],
   "source": [
    "import pandas as pd\n",
    "import numpy as np\n",
    "import yfinance as yf\n",
    "import matplotlib.pyplot as plt\n",
    "import seaborn as sns\n",
    "import statsmodels.api as sm\n",
    "import statsmodels.tsa.stattools as ts\n",
    "import math\n",
    "from numpy import vstack,array \n",
    "from numpy.random import rand\n",
    "import numpy as np \n",
    "from scipy.cluster.vq  import kmeans,vq \n",
    "import pandas as pd \n",
    "from math import sqrt \n",
    "from sklearn.cluster import KMeans \n",
    "from matplotlib import pyplot as plt \n",
    "from tqdm import tqdm\n",
    "from sklearn.linear_model import LinearRegression\n",
    "from pycop import archimedean, estimation, mixture, gaussian, empirical\n",
    "from statsmodels.distributions.empirical_distribution import ECDF\n",
    "import sympy as sp\n",
    "from sympy import symbols, diff\n",
    "from scipy.stats import norm, multivariate_normal\n",
    "from scipy.special import erfinv\n",
    "from pycop.bivariate.copula import copula\n",
    "sp500_url = 'https://en.wikipedia.org/wiki/List_of_S%26P_500_companies'\n",
    "import empyrical as ep"
   ]
  },
  {
   "cell_type": "code",
   "execution_count": 2,
   "id": "c2f28d2d",
   "metadata": {},
   "outputs": [],
   "source": [
    "# Preliminaries\n",
    "from IPython.core.interactiveshell import InteractiveShell\n",
    "InteractiveShell.ast_node_interactivity = \"all\"\n",
    "\n",
    "# Reload all modules imported with %aimport\n",
    "%load_ext autoreload\n",
    "%autoreload 1\n",
    "\n",
    "# disable warnings\n",
    "import warnings\n",
    "warnings.filterwarnings('ignore')"
   ]
  },
  {
   "cell_type": "code",
   "execution_count": 3,
   "id": "3a2d0ddc",
   "metadata": {},
   "outputs": [],
   "source": [
    "# all the usual copula cdf and pdf equation\n",
    "def clayton_pdf(u, v, param):\n",
    "    term1 = (param + 1) * (u * v) ** (-param - 1)\n",
    "    term2 = (u ** (-param) + v ** (-param) - 1) ** (-2 - 1 / param)\n",
    "    return term1 * term2\n",
    "\n",
    "def clayton_cdf(u, v, param):\n",
    "    return (u ** (-param) + v ** (-param) - 1) ** (-1 / param)\n",
    "\n",
    "def gumbel_pdf(u,v,param):\n",
    "    term1 = (u*v)**(-1)\n",
    "    tmp = (-sp.log(u))** param + (-sp.log(v))** param\n",
    "    term2 = tmp ** (-2 + 2.0 / param)\n",
    "    term3 = (sp.log(u) * sp.log(v)) ** (param - 1)\n",
    "    term4 = 1 + (param - 1) *  (tmp ** (-1 / param))\n",
    "    return gumbel_cdf(u,v, param) * term1 * term2 * term3 * term4\n",
    "\n",
    "def gumbel_cdf(u, v, param):\n",
    "    return sp.exp(-((-sp.log(u)) ** param + (-sp.log(v)) ** param ) ** (1 / param))\n",
    "\n",
    "def frank_pdf(u,v, param):\n",
    "    term1 = param * (1 - sp.exp(-param)) * sp.exp(-param * (u + v))\n",
    "    term2 = (1 - sp.exp(-param) - (1 - sp.exp(-param * u)) \\\n",
    "                    * (1 - sp.exp(-param * v))) ** 2\n",
    "    return term1 / term2\n",
    "\n",
    "def frank_cdf(u,v,param):\n",
    "    a = (sp.exp(-param * u) - 1) * (sp.exp(-param * v) - 1)\n",
    "    return (-1 / param) * sp.log(1 + a / (sp.exp(-param) - 1))\n",
    "\n",
    "def joe_pdf(u,v,param):\n",
    "    u_ = (1 - u) ** param\n",
    "    v_ = (1 - v) ** param\n",
    "    term1 = (u_ + v_ - u_ * v_) ** (-2 + 1 / param)\n",
    "    term2 = ((1 - u) ** (param - 1)) * ((1 - v) ** (param - 1))\n",
    "    term3 = param - 1 + u_ + v_ + u_ * v_\n",
    "    return term1 * term2 * term3\n",
    "\n",
    "def joe_cdf(u,v,param):\n",
    "    u_ = (1 - u) ** param\n",
    "    v_ = (1 - v) ** param\n",
    "    return 1 - (u_ + v_ - u_ * v_) ** (1 / param)\n",
    "\n",
    "def galambos_pdf(u,v,param):\n",
    "    x = -sp.log(u)\n",
    "    y = -sp.log(v)\n",
    "    term1 = galambos_cdf(u, v, param) / (v * u)\n",
    "    term2 = 1 - ((x ** (-param) + y ** (-param)) ** (-1 - 1 / param)) \\\n",
    "                    * (x ** (-param - 1) + y ** (-param - 1))\n",
    "    term3 = ((x ** (-param) + y ** (-param)) ** (-2 - 1 / param)) \\\n",
    "                    * ((x * y) ** (-param - 1))\n",
    "    term4 = 1 + param + ((x ** (-param) + y ** (-param)) ** (-1 / param))\n",
    "    return term1 * term2 + term3 * term4\n",
    "\n",
    "def galambos_cdf(u,v,param):\n",
    "    return u * v * sp.exp(((-sp.log(u)) ** (-param[0]) + (-sp.log(v)) ** (-param[0])) ** (-1 / param[0]) )\n",
    "\n",
    "def fgm_pdf(u,v,param):\n",
    "    return 1 + param * (1 - 2 * u) * (1 - 2 * v)\n",
    "\n",
    "def fgm_cdf(u,v,param):\n",
    "    return u * v * (1 + param * (1 - u) * (1 - v))\n",
    "\n",
    "def plackett_pdf(u,v,param):\n",
    "    eta = (param - 1)\n",
    "    term1 = param * (1 + eta * (u + v - 2 * u * v))\n",
    "    term2 = (1 + eta * (u + v)) ** 2 \n",
    "    term3 = 4 * param * eta * u * v\n",
    "    return term1 / (term2 - term3) ** (3 / 2)\n",
    "\n",
    "def plackett_cdf(u,v,param):\n",
    "    eta = param - 1\n",
    "    term1 = 0.5 * eta ** -1\n",
    "    term2 = 1 + eta * (u + v)\n",
    "    term3 = (1 + eta * (u + v)) ** 2\n",
    "    term4 = 4 * param * eta * u * v\n",
    "    return term1 * (term2 - (term3 - term4) ** 0.5)\n",
    "\n",
    "def rclayton_pdf(u,v,param):\n",
    "    return clayton_pdf(1-u,1-v,param)\n",
    "\n",
    "def rclayton_cdf(u,v,param):\n",
    "    return (u + v - 1 + clayton_cdf((1 - u),(1 - v), param) )\n",
    "\n",
    "def gaussian_pdf(u,v,param):\n",
    "    rho = param\n",
    "    a = np.sqrt(2) * erfinv(2 * u - 1)\n",
    "    b = np.sqrt(2) * erfinv(2 * v - 1)\n",
    "    det_rho = 1 - rho**2\n",
    "    return det_rho**-0.5 * sp.exp(-((a**2 + b**2) * rho**2 -2 * a * b * rho) / (2 * det_rho))\n",
    "\n",
    "def gaussian_cdf(u,v,param):\n",
    "    y1 = norm.ppf(u, 0, 1)\n",
    "    y2 = norm.ppf(v, 0, 1)\n",
    "    rho = param\n",
    "    return multivariate_normal.cdf((y1,y2), mean=None, cov=[[1, rho], [rho, 1]])\n",
    "\n",
    "def scad_derivative(beta_hat, lambda_val, a_val):\n",
    "    if abs(beta_hat) <= lambda_val:\n",
    "        return lambda_val\n",
    "    elif lambda_val < abs(beta_hat) <= a_val* lambda_val:\n",
    "        return ((a_val*lambda_val) - beta_hat)/(a_val-1)\n",
    "    elif abs(beta_hat) > a_val*lambda_val:\n",
    "        return 0"
   ]
  },
  {
   "cell_type": "markdown",
   "id": "cb11fc30",
   "metadata": {},
   "source": [
    "## Train"
   ]
  },
  {
   "cell_type": "code",
   "execution_count": 72,
   "id": "7cb95fb2",
   "metadata": {},
   "outputs": [],
   "source": [
    "# import data\n",
    "root = 'C:/Users/Allen/Desktop/IAQF/Data/'\n",
    "all_data = pd.read_csv(root + 'merged_all_data.csv', index_col='Date', parse_dates=True).iloc[:-414,:]\n",
    "\n",
    "pair_name = ['MID', 'NDX']\n",
    "target = pair_name[0]\n",
    "feature = pair_name[1]\n",
    "dfx = all_data[feature]\n",
    "dfy = all_data[target]\n",
    "df = all_data[[feature, target]]\n",
    "ret = df.copy(deep=True)\n",
    "\n",
    "#x=feature=spy"
   ]
  },
  {
   "cell_type": "code",
   "execution_count": 73,
   "id": "0c0a34e3",
   "metadata": {},
   "outputs": [],
   "source": [
    "ecdf_x = ECDF(dfx)\n",
    "ecdf_y = ECDF(dfy)"
   ]
  },
  {
   "cell_type": "code",
   "execution_count": 74,
   "id": "c2e17951",
   "metadata": {},
   "outputs": [],
   "source": [
    "df['X_uniform'] = ecdf_x(dfx) # convert the price distribution to uniform distribution based on ecdf\n",
    "df['Y_uniform'] = ecdf_y(dfy)\n",
    "df['X_uniform'] = df['X_uniform'].replace([0.00, 1.00],[0.000001, 0.999999])\n",
    "df['Y_uniform'] = df['Y_uniform'].replace([0.00, 1.00],[0.000001, 0.999999])\n"
   ]
  },
  {
   "cell_type": "code",
   "execution_count": 75,
   "id": "a1ad25c9",
   "metadata": {
    "scrolled": false
   },
   "outputs": [
    {
     "data": {
      "image/png": "[encoded data removed]",
      "text/plain": [
       "<Figure size 640x480 with 1 Axes>"
      ]
     },
     "metadata": {},
     "output_type": "display_data"
    }
   ],
   "source": [
    "ax1 = df.plot.scatter(x='NDX',y='MID',s=5)"
   ]
  },
  {
   "cell_type": "code",
   "execution_count": 76,
   "id": "7fde0d62",
   "metadata": {},
   "outputs": [
    {
     "data": {
      "text/html": [
       "<div>\n",
       "<style scoped>\n",
       "    .dataframe tbody tr th:only-of-type {\n",
       "        vertical-align: middle;\n",
       "    }\n",
       "\n",
       "    .dataframe tbody tr th {\n",
       "        vertical-align: top;\n",
       "    }\n",
       "\n",
       "    .dataframe thead th {\n",
       "        text-align: right;\n",
       "    }\n",
       "</style>\n",
       "<table border=\"1\" class=\"dataframe\">\n",
       "  <thead>\n",
       "    <tr style=\"text-align: right;\">\n",
       "      <th></th>\n",
       "      <th>NDX</th>\n",
       "      <th>MID</th>\n",
       "      <th>X_uniform</th>\n",
       "      <th>Y_uniform</th>\n",
       "    </tr>\n",
       "    <tr>\n",
       "      <th>Date</th>\n",
       "      <th></th>\n",
       "      <th></th>\n",
       "      <th></th>\n",
       "      <th></th>\n",
       "    </tr>\n",
       "  </thead>\n",
       "  <tbody>\n",
       "    <tr>\n",
       "      <th>2013-02-07</th>\n",
       "      <td>2746.50</td>\n",
       "      <td>1102.62</td>\n",
       "      <td>0.005464</td>\n",
       "      <td>0.003643</td>\n",
       "    </tr>\n",
       "    <tr>\n",
       "      <th>2013-02-08</th>\n",
       "      <td>2775.56</td>\n",
       "      <td>1109.09</td>\n",
       "      <td>0.009715</td>\n",
       "      <td>0.007286</td>\n",
       "    </tr>\n",
       "    <tr>\n",
       "      <th>2013-02-14</th>\n",
       "      <td>2771.43</td>\n",
       "      <td>1117.12</td>\n",
       "      <td>0.007893</td>\n",
       "      <td>0.010322</td>\n",
       "    </tr>\n",
       "    <tr>\n",
       "      <th>2013-02-15</th>\n",
       "      <td>2764.67</td>\n",
       "      <td>1115.75</td>\n",
       "      <td>0.007286</td>\n",
       "      <td>0.009107</td>\n",
       "    </tr>\n",
       "    <tr>\n",
       "      <th>2013-02-19</th>\n",
       "      <td>2782.86</td>\n",
       "      <td>1123.74</td>\n",
       "      <td>0.010929</td>\n",
       "      <td>0.012750</td>\n",
       "    </tr>\n",
       "    <tr>\n",
       "      <th>...</th>\n",
       "      <td>...</td>\n",
       "      <td>...</td>\n",
       "      <td>...</td>\n",
       "      <td>...</td>\n",
       "    </tr>\n",
       "    <tr>\n",
       "      <th>2021-01-19</th>\n",
       "      <td>12996.54</td>\n",
       "      <td>2444.10</td>\n",
       "      <td>0.996964</td>\n",
       "      <td>0.996357</td>\n",
       "    </tr>\n",
       "    <tr>\n",
       "      <th>2021-01-20</th>\n",
       "      <td>13296.45</td>\n",
       "      <td>2469.01</td>\n",
       "      <td>0.998179</td>\n",
       "      <td>0.999999</td>\n",
       "    </tr>\n",
       "    <tr>\n",
       "      <th>2021-01-21</th>\n",
       "      <td>13404.99</td>\n",
       "      <td>2453.24</td>\n",
       "      <td>0.999393</td>\n",
       "      <td>0.998179</td>\n",
       "    </tr>\n",
       "    <tr>\n",
       "      <th>2021-01-22</th>\n",
       "      <td>13366.40</td>\n",
       "      <td>2462.53</td>\n",
       "      <td>0.998786</td>\n",
       "      <td>0.999393</td>\n",
       "    </tr>\n",
       "    <tr>\n",
       "      <th>2021-01-25</th>\n",
       "      <td>13483.29</td>\n",
       "      <td>2453.80</td>\n",
       "      <td>0.999999</td>\n",
       "      <td>0.998786</td>\n",
       "    </tr>\n",
       "  </tbody>\n",
       "</table>\n",
       "<p>1647 rows × 4 columns</p>\n",
       "</div>"
      ],
      "text/plain": [
       "                 NDX      MID  X_uniform  Y_uniform\n",
       "Date                                               \n",
       "2013-02-07   2746.50  1102.62   0.005464   0.003643\n",
       "2013-02-08   2775.56  1109.09   0.009715   0.007286\n",
       "2013-02-14   2771.43  1117.12   0.007893   0.010322\n",
       "2013-02-15   2764.67  1115.75   0.007286   0.009107\n",
       "2013-02-19   2782.86  1123.74   0.010929   0.012750\n",
       "...              ...      ...        ...        ...\n",
       "2021-01-19  12996.54  2444.10   0.996964   0.996357\n",
       "2021-01-20  13296.45  2469.01   0.998179   0.999999\n",
       "2021-01-21  13404.99  2453.24   0.999393   0.998179\n",
       "2021-01-22  13366.40  2462.53   0.998786   0.999393\n",
       "2021-01-25  13483.29  2453.80   0.999999   0.998786\n",
       "\n",
       "[1647 rows x 4 columns]"
      ]
     },
     "execution_count": 76,
     "metadata": {},
     "output_type": "execute_result"
    }
   ],
   "source": [
    "df"
   ]
  },
  {
   "cell_type": "code",
   "execution_count": 8,
   "id": "9d324b9e",
   "metadata": {},
   "outputs": [
    {
     "name": "stdout",
     "output_type": "stream",
     "text": [
      "Estimated parameter:  6.7711619841526245\n"
     ]
    }
   ],
   "source": [
    "data = df[pair_name].T.values\n",
    "cop = archimedean(family=\"clayton\")\n",
    "param1, cmle = estimation.fit_cmle(cop, data, opti_method='Powell')\n",
    "print(\"Estimated parameter: \", param1[0]) "
   ]
  },
  {
   "cell_type": "code",
   "execution_count": 9,
   "id": "f41703da",
   "metadata": {},
   "outputs": [
    {
     "name": "stdout",
     "output_type": "stream",
     "text": [
      "Estimated parameter:  3.5049501548083697\n"
     ]
    }
   ],
   "source": [
    "cop = archimedean(family=\"gumbel\")\n",
    "param2, cmle = estimation.fit_cmle(cop, data, opti_method='Powell')\n",
    "print(\"Estimated parameter: \", param2[0])"
   ]
  },
  {
   "cell_type": "code",
   "execution_count": 10,
   "id": "0b907142",
   "metadata": {},
   "outputs": [
    {
     "name": "stdout",
     "output_type": "stream",
     "text": [
      "Estimated parameter:  3.081643615459402\n"
     ]
    }
   ],
   "source": [
    "cop = archimedean(family=\"joe\")\n",
    "param3, cmle = estimation.fit_cmle(cop, data, opti_method='Powell')\n",
    "print(\"Estimated parameter: \", param3[0])"
   ]
  },
  {
   "cell_type": "code",
   "execution_count": 11,
   "id": "2a2caf0a",
   "metadata": {},
   "outputs": [],
   "source": [
    "# initial values of theta for each copula are generated above to calculate the E-step"
   ]
  },
  {
   "cell_type": "markdown",
   "id": "dcc99d61",
   "metadata": {},
   "source": [
    "## Finding Thetas and Parameters"
   ]
  },
  {
   "cell_type": "code",
   "execution_count": 12,
   "id": "e2db000c",
   "metadata": {},
   "outputs": [],
   "source": [
    "# If pycop failed, continue with numerical estimation"
   ]
  },
  {
   "cell_type": "code",
   "execution_count": 13,
   "id": "ed94868d",
   "metadata": {
    "scrolled": false
   },
   "outputs": [
    {
     "name": "stdout",
     "output_type": "stream",
     "text": [
      "method: SLSQP - success: True : Optimization terminated successfully\n"
     ]
    }
   ],
   "source": [
    "try:\n",
    "    cop = mixture([\"clayton\", \"gumbel\", \"joe\"])\n",
    "    data = df[pair_name].T.values\n",
    "\n",
    "    param, mle = estimation.fit_cmle_mixt(cop, data)\n",
    "    w1 = param[0]\n",
    "    w2 = param[1]\n",
    "    w3 = param[2]\n",
    "    theta1 = param[3]\n",
    "    theta2 = param[4]\n",
    "    theta3 = param[5]\n",
    "except:\n",
    "    lamda = 0.1  #variables in penalty term, may need to optimize\n",
    "    alpha = 100000\n",
    "    w1 = 0.333 # assign initial w1,w2,w3 and try to converge w1 first\n",
    "    w2 = 0.333\n",
    "    w3 = 0.334\n",
    "    theta1 = param1[0]\n",
    "    theta2 = param2[0]\n",
    "    theta3 = param3[0]\n",
    "    \n",
    "    logsum1 = 0\n",
    "    ## use sympy package to find out the derivative of the pdf of clayton copula\n",
    "    x, y, z = symbols('x y z', real = True)\n",
    "    f = rclayton_pdf(x, y, z)\n",
    "    dfdz = diff(f,z)\n",
    "\n",
    "    a = symbols('a', real = True)\n",
    "    for i in range(len(df)):\n",
    "        logsum1 = logsum1 + w1*dfdz.subs([(x, df['X_uniform'][i]),(y, df['Y_uniform'][i]),(z,a)]) / (w1*rclayton_pdf(df['X_uniform'][i],df['Y_uniform'][i],a) + w2*gumbel_pdf(df['X_uniform'][i],df['Y_uniform'][i],theta2) + w3*joe_pdf(df['X_uniform'][i],df['Y_uniform'][i],theta3))\n",
    "    f1 = logsum1\n",
    "    dfdtheta1 = diff(f1 , a) #f'(theta)\n",
    "    \n",
    "    logsum2 = 0\n",
    "    x, y, z = symbols('x y z', real = True)\n",
    "    f = gumbel_pdf(x, y, z)\n",
    "    dfdz = diff(f,z)\n",
    "    \n",
    "    a = symbols('a', real = True)\n",
    "    for i in range(len(df)):\n",
    "        logsum2 = logsum2 + w2*dfdz.subs([(x, df['X_uniform'][i]),(y, df['Y_uniform'][i]),(z,a)]) / (w1*rclayton_pdf(df['X_uniform'][i],df['Y_uniform'][i],a) + w2*gumbel_pdf(df['X_uniform'][i],df['Y_uniform'][i],theta2) + w3*joe_pdf(df['X_uniform'][i],df['Y_uniform'][i],theta3))\n",
    "    f2 = logsum2\n",
    "    dfdtheta2 = diff(f2 , a)\n",
    "    \n",
    "    logsum3 = 0\n",
    "    x, y, z = symbols('x y z', real = True)\n",
    "    f = joe_pdf(x, y, z)\n",
    "    dfdz = diff(f,z)\n",
    "    \n",
    "    a = symbols('a', real = True)\n",
    "    for i in range(len(df)):\n",
    "        logsum3 = logsum3 + w3*dfdz.subs([(x, df['X_uniform'][i]),(y, df['Y_uniform'][i]),(z,a)]) / (w1*rclayton_pdf(df['X_uniform'][i],df['Y_uniform'][i],a) + w2*gumbel_pdf(df['X_uniform'][i],df['Y_uniform'][i],theta2) + w3*joe_pdf(df['X_uniform'][i],df['Y_uniform'][i],theta3))\n",
    "    f3 = logsum3\n",
    "    dfdtheta3 = diff(f3 , a)\n",
    "\n",
    "    \n",
    "    iteration = 0\n",
    "    for j in range(3):\n",
    "        iteration += 1\n",
    "        print(iteration, 'Round of Iteration')\n",
    "        sumterm = 0\n",
    "        wisumterm = 0\n",
    "        for i in range(1000):\n",
    "            for t in range(len(df)):\n",
    "                sumterm = sumterm + (w1 * rclayton_pdf(df['X_uniform'][t],df['Y_uniform'][t],theta1))/(w1*rclayton_pdf(df['X_uniform'][t],df['Y_uniform'][t],theta1) + w2*gumbel_pdf(df['X_uniform'][t],df['Y_uniform'][t],theta2) + w3*joe_pdf(df['X_uniform'][t],df['Y_uniform'][t],theta3))\n",
    "            wisumterm = w1*scad_derivative(w1,lamda,alpha) + w2*scad_derivative(w2,lamda,alpha) + w3*scad_derivative(w3,lamda,alpha) - 1\n",
    "            w1_new = (w1*scad_derivative(w1, lamda, alpha) - sumterm/len(df)) / wisumterm\n",
    "            print('Weight 1 is converging: ', w1_new)\n",
    "            if abs(w1_new - w1) <= 0.000001:\n",
    "                w1 = w1_new\n",
    "                sumterm = 0\n",
    "                wisumterm = 0\n",
    "                break\n",
    "            else:\n",
    "                sumterm = 0\n",
    "                wisumterm = 0\n",
    "                w1 = w1_new\n",
    "    \n",
    "    \n",
    "        for i in range(1000):\n",
    "            for t in range(len(df)):\n",
    "                sumterm = sumterm + (w2 * gumbel_pdf(df['X_uniform'][t],df['Y_uniform'][t],theta2))/(w1*rclayton_pdf(df['X_uniform'][t],df['Y_uniform'][t],theta1) + w2*gumbel_pdf(df['X_uniform'][t],df['Y_uniform'][t],theta2) + w3*joe_pdf(df['X_uniform'][t],df['X_uniform'][t],theta3))\n",
    "            wisumterm = w1*scad_derivative(w1,lamda,alpha) + w2*scad_derivative(w2,lamda,alpha) + w3*scad_derivative(w3,lamda,alpha) -1\n",
    "            w2_new = (w2*scad_derivative(w2, lamda, alpha) - sumterm/len(df)) / wisumterm\n",
    "            print('Weight 2 is converging: ', w2_new)\n",
    "            if abs(w2_new - w2) <= 0.000001:\n",
    "                sumterm = 0\n",
    "                wisumterm = 0\n",
    "                w2 = w2_new\n",
    "                break\n",
    "            else:\n",
    "                sumterm = 0\n",
    "                wisumterm = 0\n",
    "                w2 = w2_new\n",
    "        w3 = 1 - w1 - w2\n",
    "    \n",
    "     \n",
    "        for i in range(1000): # iterate 1000times using NR methond to find theta of first copula\n",
    "            theta1_new = theta1 - f1.subs([(a,theta1)]) / dfdtheta1.subs([(a,theta1)])\n",
    "            print('Theta1 is converging: ' , theta1_new)\n",
    "            if abs(theta1_new - theta1) <= 0.000001:\n",
    "                theta1 = theta1_new\n",
    "                break\n",
    "            else:\n",
    "                theta1 = theta1_new\n",
    "    \n",
    "    \n",
    "    \n",
    "    \n",
    "        for i in range(1000):\n",
    "            theta2_new = theta2 - f2.subs([(a,theta2)]) / dfdtheta2.subs([(a,theta2)])\n",
    "            print('Theta2 is converging: ' , theta2_new)\n",
    "            if abs(theta2_new - theta2) <= 0.000001:\n",
    "                theta2 = theta2_new\n",
    "                break\n",
    "            else:\n",
    "                theta2 = theta2_new\n",
    "    \n",
    "    \n",
    "    \n",
    "    \n",
    "        for i in range(1000):\n",
    "            theta3_new = theta3 - f3.subs([(a,theta3)]) / dfdtheta3.subs([(a,theta3)])\n",
    "            print('Theta3 is converging: ' , theta3_new)\n",
    "            if abs(theta3_new - theta3) <= 0.000001:\n",
    "                theta3 = theta3_new\n",
    "                break\n",
    "            else:\n",
    "                theta3 = theta3_new"
   ]
  },
  {
   "cell_type": "code",
   "execution_count": 14,
   "id": "1b41eab6",
   "metadata": {},
   "outputs": [
    {
     "data": {
      "text/plain": [
       "(0.7239827808684419,\n",
       " 0.1982739330966585,\n",
       " 0.07774328603489954,\n",
       " 8.430567314408032,\n",
       " 10.060986445133784,\n",
       " 1.0)"
      ]
     },
     "execution_count": 14,
     "metadata": {},
     "output_type": "execute_result"
    }
   ],
   "source": [
    "w1, w2, w3, theta1, theta2, theta3"
   ]
  },
  {
   "cell_type": "code",
   "execution_count": 15,
   "id": "cad0a27c",
   "metadata": {},
   "outputs": [],
   "source": [
    "# weight*sp.exp(-((-sp.log(x))**theta_gumbel+(-sp.log(y))**theta_gumbel)**(1/theta_gumbel))   <--- gumbel part\n",
    "# weight*sp.log(sp.exp(sp.log((sp.exp(-theta*x)-1)/(sp.exp(-theta)-1))+sp.log((sp.exp(-theta*y)-1)/(sp.exp(-theta)-1)))*(sp.exp(-theta)-1)+1)/(theta)  <--- Frank Part\n",
    "# weight*(((x**(-theta)-1)/theta + (y**(-theta)-1)/theta)*theta + 1)**(-1/theta)   <--- Clayton Part\n",
    "# weight*(1-(1-(sp.exp((sp.log(1-(1-x)**theta))+sp.log(1-(1-x)**theta)))**(1/theta)))  <-- Joe Part"
   ]
  },
  {
   "cell_type": "markdown",
   "id": "9810aed5",
   "metadata": {},
   "source": [
    "## Finalize Mixed Copula"
   ]
  },
  {
   "cell_type": "code",
   "execution_count": 16,
   "id": "6c977c68",
   "metadata": {
    "scrolled": false
   },
   "outputs": [],
   "source": [
    "x,y = symbols('x y', real = True) # finding the partial dirivative of the copula function\n",
    "f = w1*clayton_cdf(x,y,theta1) + w2*gumbel_cdf(x,y,theta2) + w3*joe_cdf(x,y,theta3)\n",
    "dfdx = diff(f, x) # partial derivative of Copula function with respect to x\n",
    "dfdy = diff(f, y) # partial derivative of Copula function with respect to x"
   ]
  },
  {
   "cell_type": "code",
   "execution_count": 17,
   "id": "135baaf5",
   "metadata": {},
   "outputs": [],
   "source": [
    "df['dfdx'] = \" \"\n",
    "df['dfdy'] = \" \"\n",
    "for i in range(len(df)): # substitue the uniform of two assets to the partial derivative function\n",
    "    df['dfdx'][i] = dfdx.subs([(x,df['X_uniform'][i]),(y,df['Y_uniform'][i])])\n",
    "    df['dfdy'][i] = dfdy.subs([(x,df['X_uniform'][i]),(y,df['Y_uniform'][i])])"
   ]
  },
  {
   "cell_type": "markdown",
   "id": "82f453fd",
   "metadata": {},
   "source": [
    "## Trading Strategy"
   ]
  },
  {
   "cell_type": "code",
   "execution_count": 18,
   "id": "d8c4946d",
   "metadata": {},
   "outputs": [],
   "source": [
    "upthreshold = 0.65\n",
    "lowerthreshold = 0.35\n",
    "exitthreshold = 0.5\n",
    "\n",
    "def generate_signal(df):\n",
    "    df['X_position'] = \" \"\n",
    "    or_and = 'or'\n",
    "    if or_and == 'or':\n",
    "        if df['dfdx'][0] >= upthreshold or df['dfdy'][0]<= lowerthreshold:\n",
    "            df['X_position'][0] = 1\n",
    "        elif df['dfdx'][0] <= lowerthreshold or df['dfdy'][0]>= upthreshold:\n",
    "            df['X_position'][0] = -1\n",
    "        else:\n",
    "            df['X_position'][0] = 0\n",
    "\n",
    "        for i in range(1,len(df)):\n",
    "            if df['X_position'][i-1] == 0:\n",
    "                if df['dfdx'][i] >= upthreshold or df['dfdy'][i]<= lowerthreshold:\n",
    "                    df['X_position'][i] = 1\n",
    "                elif df['dfdx'][i] <= lowerthreshold or df['dfdy'][i]>= upthreshold:\n",
    "                    df['X_position'][i] = -1\n",
    "                else:\n",
    "                    df['X_position'][i] = 0\n",
    "            elif df['X_position'][i-1] == 1:\n",
    "                if df['dfdy'][i] >= exitthreshold or df['dfdx'][i] <= exitthreshold:\n",
    "                    df['X_position'][i] = 0\n",
    "                else:\n",
    "                    df['X_position'][i] = 1\n",
    "            elif df['X_position'][i-1] == -1:\n",
    "                if df['dfdy'][i] <= exitthreshold or df['dfdx'][i] >= exitthreshold:\n",
    "                    df['X_position'][i] = 0\n",
    "                else:\n",
    "                    df['X_position'][i] = -1\n",
    "    else:\n",
    "        if df['dfdx'][0] >= upthreshold and df['dfdy'][0]<= lowerthreshold:\n",
    "            df['X_position'][0] = 1\n",
    "        elif df['dfdx'][0] <= lowerthreshold and df['dfdy'][0]>= upthreshold:\n",
    "            df['X_position'][0] = -1\n",
    "        else:\n",
    "            df['X_position'][0] = 0\n",
    "\n",
    "        for i in range(1,len(df)):\n",
    "            if df['X_position'][i-1] == 0:\n",
    "                if df['dfdx'][i] >= upthreshold and df['dfdy'][i]<= lowerthreshold:\n",
    "                    df['X_position'][i] = 1\n",
    "                elif df['dfdx'][i] <= lowerthreshold and df['dfdy'][i]>= upthreshold:\n",
    "                    df['X_position'][i] = -1\n",
    "                else:\n",
    "                    df['X_position'][i] = 0\n",
    "            elif df['X_position'][i-1] == 1:\n",
    "                if df['dfdy'][i] >= exitthreshold and df['dfdx'][i] <= exitthreshold:\n",
    "                    df['X_position'][i] = 0\n",
    "                else:\n",
    "                    df['X_position'][i] = 1\n",
    "            elif df['X_position'][i-1] == -1:\n",
    "                if df['dfdy'][i] <= exitthreshold and df['dfdx'][i] >= exitthreshold:\n",
    "                    df['X_position'][i] = 0\n",
    "                else:\n",
    "                    df['X_position'][i] = -1\n",
    "    df['Y_position'] = 0 - df['X_position']\n",
    "    return None"
   ]
  },
  {
   "cell_type": "code",
   "execution_count": 19,
   "id": "4ac87be7",
   "metadata": {},
   "outputs": [],
   "source": [
    "generate_signal(df)"
   ]
  },
  {
   "cell_type": "code",
   "execution_count": 20,
   "id": "1ed4351e",
   "metadata": {
    "scrolled": false
   },
   "outputs": [
    {
     "data": {
      "text/plain": [
       "<AxesSubplot: xlabel='Date'>"
      ]
     },
     "execution_count": 20,
     "metadata": {},
     "output_type": "execute_result"
    },
    {
     "data": {
      "image/png": "[encoded data removed]",
      "text/plain": [
       "<Figure size 640x480 with 1 Axes>"
      ]
     },
     "metadata": {},
     "output_type": "display_data"
    }
   ],
   "source": [
    "df['X_position'].plot()"
   ]
  },
  {
   "cell_type": "code",
   "execution_count": 21,
   "id": "b09a9cfa",
   "metadata": {},
   "outputs": [
    {
     "data": {
      "text/plain": [
       "<AxesSubplot: xlabel='Date'>"
      ]
     },
     "execution_count": 21,
     "metadata": {},
     "output_type": "execute_result"
    },
    {
     "data": {
      "image/png": "[encoded data removed]",
      "text/plain": [
       "<Figure size 640x480 with 1 Axes>"
      ]
     },
     "metadata": {},
     "output_type": "display_data"
    }
   ],
   "source": [
    "df['Y_position'].plot()"
   ]
  },
  {
   "cell_type": "code",
   "execution_count": 22,
   "id": "47b607e4",
   "metadata": {},
   "outputs": [
    {
     "data": {
      "text/html": [
       "<div>\n",
       "<style scoped>\n",
       "    .dataframe tbody tr th:only-of-type {\n",
       "        vertical-align: middle;\n",
       "    }\n",
       "\n",
       "    .dataframe tbody tr th {\n",
       "        vertical-align: top;\n",
       "    }\n",
       "\n",
       "    .dataframe thead th {\n",
       "        text-align: right;\n",
       "    }\n",
       "</style>\n",
       "<table border=\"1\" class=\"dataframe\">\n",
       "  <thead>\n",
       "    <tr style=\"text-align: right;\">\n",
       "      <th></th>\n",
       "      <th>NDX</th>\n",
       "      <th>MID</th>\n",
       "      <th>X_uniform</th>\n",
       "      <th>Y_uniform</th>\n",
       "      <th>dfdx</th>\n",
       "      <th>dfdy</th>\n",
       "      <th>X_position</th>\n",
       "      <th>Y_position</th>\n",
       "    </tr>\n",
       "    <tr>\n",
       "      <th>Date</th>\n",
       "      <th></th>\n",
       "      <th></th>\n",
       "      <th></th>\n",
       "      <th></th>\n",
       "      <th></th>\n",
       "      <th></th>\n",
       "      <th></th>\n",
       "      <th></th>\n",
       "    </tr>\n",
       "  </thead>\n",
       "  <tbody>\n",
       "    <tr>\n",
       "      <th>2013-02-07</th>\n",
       "      <td>2746.50</td>\n",
       "      <td>1102.62</td>\n",
       "      <td>0.005464</td>\n",
       "      <td>0.003643</td>\n",
       "      <td>0.0535716460027983</td>\n",
       "      <td>0.811272456003350</td>\n",
       "      <td>-1</td>\n",
       "      <td>1</td>\n",
       "    </tr>\n",
       "    <tr>\n",
       "      <th>2013-02-08</th>\n",
       "      <td>2775.56</td>\n",
       "      <td>1109.09</td>\n",
       "      <td>0.009715</td>\n",
       "      <td>0.007286</td>\n",
       "      <td>0.0910766897825694</td>\n",
       "      <td>0.767009498327048</td>\n",
       "      <td>-1</td>\n",
       "      <td>1</td>\n",
       "    </tr>\n",
       "    <tr>\n",
       "      <th>2013-02-14</th>\n",
       "      <td>2771.43</td>\n",
       "      <td>1117.12</td>\n",
       "      <td>0.007893</td>\n",
       "      <td>0.010322</td>\n",
       "      <td>0.755208708750348</td>\n",
       "      <td>0.100781113439148</td>\n",
       "      <td>0</td>\n",
       "      <td>0</td>\n",
       "    </tr>\n",
       "    <tr>\n",
       "      <th>2013-02-15</th>\n",
       "      <td>2764.67</td>\n",
       "      <td>1115.75</td>\n",
       "      <td>0.007286</td>\n",
       "      <td>0.009107</td>\n",
       "      <td>0.718679173425583</td>\n",
       "      <td>0.128540274128258</td>\n",
       "      <td>1</td>\n",
       "      <td>-1</td>\n",
       "    </tr>\n",
       "    <tr>\n",
       "      <th>2013-02-19</th>\n",
       "      <td>2782.86</td>\n",
       "      <td>1123.74</td>\n",
       "      <td>0.010929</td>\n",
       "      <td>0.012750</td>\n",
       "      <td>0.649707363583341</td>\n",
       "      <td>0.190040055194872</td>\n",
       "      <td>1</td>\n",
       "      <td>-1</td>\n",
       "    </tr>\n",
       "    <tr>\n",
       "      <th>...</th>\n",
       "      <td>...</td>\n",
       "      <td>...</td>\n",
       "      <td>...</td>\n",
       "      <td>...</td>\n",
       "      <td>...</td>\n",
       "      <td>...</td>\n",
       "      <td>...</td>\n",
       "      <td>...</td>\n",
       "    </tr>\n",
       "    <tr>\n",
       "      <th>2021-01-19</th>\n",
       "      <td>12996.54</td>\n",
       "      <td>2444.10</td>\n",
       "      <td>0.996964</td>\n",
       "      <td>0.996357</td>\n",
       "      <td>0.810702459150764</td>\n",
       "      <td>0.955190181506080</td>\n",
       "      <td>1</td>\n",
       "      <td>-1</td>\n",
       "    </tr>\n",
       "    <tr>\n",
       "      <th>2021-01-20</th>\n",
       "      <td>13296.45</td>\n",
       "      <td>2469.01</td>\n",
       "      <td>0.998179</td>\n",
       "      <td>0.999999</td>\n",
       "      <td>0.999993198854697</td>\n",
       "      <td>0.789243246466384</td>\n",
       "      <td>0</td>\n",
       "      <td>0</td>\n",
       "    </tr>\n",
       "    <tr>\n",
       "      <th>2021-01-21</th>\n",
       "      <td>13404.99</td>\n",
       "      <td>2453.24</td>\n",
       "      <td>0.999393</td>\n",
       "      <td>0.998179</td>\n",
       "      <td>0.789314518117818</td>\n",
       "      <td>0.995877853971110</td>\n",
       "      <td>1</td>\n",
       "      <td>-1</td>\n",
       "    </tr>\n",
       "    <tr>\n",
       "      <th>2021-01-22</th>\n",
       "      <td>13366.40</td>\n",
       "      <td>2462.53</td>\n",
       "      <td>0.998786</td>\n",
       "      <td>0.999393</td>\n",
       "      <td>0.995693319803873</td>\n",
       "      <td>0.793794401314196</td>\n",
       "      <td>0</td>\n",
       "      <td>0</td>\n",
       "    </tr>\n",
       "    <tr>\n",
       "      <th>2021-01-25</th>\n",
       "      <td>13483.29</td>\n",
       "      <td>2453.80</td>\n",
       "      <td>0.999999</td>\n",
       "      <td>0.998786</td>\n",
       "      <td>0.793383126599716</td>\n",
       "      <td>0.999993164298824</td>\n",
       "      <td>1</td>\n",
       "      <td>-1</td>\n",
       "    </tr>\n",
       "  </tbody>\n",
       "</table>\n",
       "<p>1647 rows × 8 columns</p>\n",
       "</div>"
      ],
      "text/plain": [
       "                 NDX      MID  X_uniform  Y_uniform                dfdx  \\\n",
       "Date                                                                      \n",
       "2013-02-07   2746.50  1102.62   0.005464   0.003643  0.0535716460027983   \n",
       "2013-02-08   2775.56  1109.09   0.009715   0.007286  0.0910766897825694   \n",
       "2013-02-14   2771.43  1117.12   0.007893   0.010322   0.755208708750348   \n",
       "2013-02-15   2764.67  1115.75   0.007286   0.009107   0.718679173425583   \n",
       "2013-02-19   2782.86  1123.74   0.010929   0.012750   0.649707363583341   \n",
       "...              ...      ...        ...        ...                 ...   \n",
       "2021-01-19  12996.54  2444.10   0.996964   0.996357   0.810702459150764   \n",
       "2021-01-20  13296.45  2469.01   0.998179   0.999999   0.999993198854697   \n",
       "2021-01-21  13404.99  2453.24   0.999393   0.998179   0.789314518117818   \n",
       "2021-01-22  13366.40  2462.53   0.998786   0.999393   0.995693319803873   \n",
       "2021-01-25  13483.29  2453.80   0.999999   0.998786   0.793383126599716   \n",
       "\n",
       "                         dfdy X_position Y_position  \n",
       "Date                                                 \n",
       "2013-02-07  0.811272456003350         -1          1  \n",
       "2013-02-08  0.767009498327048         -1          1  \n",
       "2013-02-14  0.100781113439148          0          0  \n",
       "2013-02-15  0.128540274128258          1         -1  \n",
       "2013-02-19  0.190040055194872          1         -1  \n",
       "...                       ...        ...        ...  \n",
       "2021-01-19  0.955190181506080          1         -1  \n",
       "2021-01-20  0.789243246466384          0          0  \n",
       "2021-01-21  0.995877853971110          1         -1  \n",
       "2021-01-22  0.793794401314196          0          0  \n",
       "2021-01-25  0.999993164298824          1         -1  \n",
       "\n",
       "[1647 rows x 8 columns]"
      ]
     },
     "execution_count": 22,
     "metadata": {},
     "output_type": "execute_result"
    }
   ],
   "source": [
    "df"
   ]
  },
  {
   "cell_type": "code",
   "execution_count": 23,
   "id": "9cefcef9",
   "metadata": {},
   "outputs": [
    {
     "data": {
      "text/html": [
       "<div>\n",
       "<style scoped>\n",
       "    .dataframe tbody tr th:only-of-type {\n",
       "        vertical-align: middle;\n",
       "    }\n",
       "\n",
       "    .dataframe tbody tr th {\n",
       "        vertical-align: top;\n",
       "    }\n",
       "\n",
       "    .dataframe thead th {\n",
       "        text-align: right;\n",
       "    }\n",
       "</style>\n",
       "<table border=\"1\" class=\"dataframe\">\n",
       "  <thead>\n",
       "    <tr style=\"text-align: right;\">\n",
       "      <th></th>\n",
       "      <th>NDX</th>\n",
       "      <th>MID</th>\n",
       "    </tr>\n",
       "    <tr>\n",
       "      <th>Date</th>\n",
       "      <th></th>\n",
       "      <th></th>\n",
       "    </tr>\n",
       "  </thead>\n",
       "  <tbody>\n",
       "    <tr>\n",
       "      <th>2013-02-07</th>\n",
       "      <td>-1</td>\n",
       "      <td>1</td>\n",
       "    </tr>\n",
       "    <tr>\n",
       "      <th>2013-02-08</th>\n",
       "      <td>-1</td>\n",
       "      <td>1</td>\n",
       "    </tr>\n",
       "    <tr>\n",
       "      <th>2013-02-14</th>\n",
       "      <td>0</td>\n",
       "      <td>0</td>\n",
       "    </tr>\n",
       "    <tr>\n",
       "      <th>2013-02-15</th>\n",
       "      <td>1</td>\n",
       "      <td>-1</td>\n",
       "    </tr>\n",
       "    <tr>\n",
       "      <th>2013-02-19</th>\n",
       "      <td>1</td>\n",
       "      <td>-1</td>\n",
       "    </tr>\n",
       "    <tr>\n",
       "      <th>...</th>\n",
       "      <td>...</td>\n",
       "      <td>...</td>\n",
       "    </tr>\n",
       "    <tr>\n",
       "      <th>2021-01-19</th>\n",
       "      <td>1</td>\n",
       "      <td>-1</td>\n",
       "    </tr>\n",
       "    <tr>\n",
       "      <th>2021-01-20</th>\n",
       "      <td>0</td>\n",
       "      <td>0</td>\n",
       "    </tr>\n",
       "    <tr>\n",
       "      <th>2021-01-21</th>\n",
       "      <td>1</td>\n",
       "      <td>-1</td>\n",
       "    </tr>\n",
       "    <tr>\n",
       "      <th>2021-01-22</th>\n",
       "      <td>0</td>\n",
       "      <td>0</td>\n",
       "    </tr>\n",
       "    <tr>\n",
       "      <th>2021-01-25</th>\n",
       "      <td>1</td>\n",
       "      <td>-1</td>\n",
       "    </tr>\n",
       "  </tbody>\n",
       "</table>\n",
       "<p>1647 rows × 2 columns</p>\n",
       "</div>"
      ],
      "text/plain": [
       "           NDX MID\n",
       "Date              \n",
       "2013-02-07  -1   1\n",
       "2013-02-08  -1   1\n",
       "2013-02-14   0   0\n",
       "2013-02-15   1  -1\n",
       "2013-02-19   1  -1\n",
       "...         ..  ..\n",
       "2021-01-19   1  -1\n",
       "2021-01-20   0   0\n",
       "2021-01-21   1  -1\n",
       "2021-01-22   0   0\n",
       "2021-01-25   1  -1\n",
       "\n",
       "[1647 rows x 2 columns]"
      ]
     },
     "execution_count": 23,
     "metadata": {},
     "output_type": "execute_result"
    }
   ],
   "source": [
    "signal = df[['X_position', 'Y_position']].rename(columns={'X_position': f'{feature}', 'Y_position': f'{target}'})\n",
    "signal"
   ]
  },
  {
   "cell_type": "code",
   "execution_count": 24,
   "id": "0c1805eb",
   "metadata": {},
   "outputs": [
    {
     "data": {
      "text/html": [
       "<div>\n",
       "<style scoped>\n",
       "    .dataframe tbody tr th:only-of-type {\n",
       "        vertical-align: middle;\n",
       "    }\n",
       "\n",
       "    .dataframe tbody tr th {\n",
       "        vertical-align: top;\n",
       "    }\n",
       "\n",
       "    .dataframe thead th {\n",
       "        text-align: right;\n",
       "    }\n",
       "</style>\n",
       "<table border=\"1\" class=\"dataframe\">\n",
       "  <thead>\n",
       "    <tr style=\"text-align: right;\">\n",
       "      <th></th>\n",
       "      <th>NDX</th>\n",
       "      <th>MID</th>\n",
       "      <th>X_ret</th>\n",
       "      <th>Y_ret</th>\n",
       "      <th>ratio</th>\n",
       "    </tr>\n",
       "    <tr>\n",
       "      <th>Date</th>\n",
       "      <th></th>\n",
       "      <th></th>\n",
       "      <th></th>\n",
       "      <th></th>\n",
       "      <th></th>\n",
       "    </tr>\n",
       "  </thead>\n",
       "  <tbody>\n",
       "    <tr>\n",
       "      <th>2013-02-07</th>\n",
       "      <td>2746.50</td>\n",
       "      <td>1102.62</td>\n",
       "      <td>NaN</td>\n",
       "      <td>NaN</td>\n",
       "      <td>0.401464</td>\n",
       "    </tr>\n",
       "    <tr>\n",
       "      <th>2013-02-08</th>\n",
       "      <td>2775.56</td>\n",
       "      <td>1109.09</td>\n",
       "      <td>0.010581</td>\n",
       "      <td>0.005868</td>\n",
       "      <td>0.399591</td>\n",
       "    </tr>\n",
       "    <tr>\n",
       "      <th>2013-02-14</th>\n",
       "      <td>2771.43</td>\n",
       "      <td>1117.12</td>\n",
       "      <td>-0.001488</td>\n",
       "      <td>0.007240</td>\n",
       "      <td>0.403084</td>\n",
       "    </tr>\n",
       "    <tr>\n",
       "      <th>2013-02-15</th>\n",
       "      <td>2764.67</td>\n",
       "      <td>1115.75</td>\n",
       "      <td>-0.002439</td>\n",
       "      <td>-0.001226</td>\n",
       "      <td>0.403574</td>\n",
       "    </tr>\n",
       "    <tr>\n",
       "      <th>2013-02-19</th>\n",
       "      <td>2782.86</td>\n",
       "      <td>1123.74</td>\n",
       "      <td>0.006579</td>\n",
       "      <td>0.007161</td>\n",
       "      <td>0.403808</td>\n",
       "    </tr>\n",
       "    <tr>\n",
       "      <th>...</th>\n",
       "      <td>...</td>\n",
       "      <td>...</td>\n",
       "      <td>...</td>\n",
       "      <td>...</td>\n",
       "      <td>...</td>\n",
       "    </tr>\n",
       "    <tr>\n",
       "      <th>2021-01-19</th>\n",
       "      <td>12996.54</td>\n",
       "      <td>2444.10</td>\n",
       "      <td>0.015043</td>\n",
       "      <td>0.008280</td>\n",
       "      <td>0.188058</td>\n",
       "    </tr>\n",
       "    <tr>\n",
       "      <th>2021-01-20</th>\n",
       "      <td>13296.45</td>\n",
       "      <td>2469.01</td>\n",
       "      <td>0.023076</td>\n",
       "      <td>0.010192</td>\n",
       "      <td>0.185689</td>\n",
       "    </tr>\n",
       "    <tr>\n",
       "      <th>2021-01-21</th>\n",
       "      <td>13404.99</td>\n",
       "      <td>2453.24</td>\n",
       "      <td>0.008163</td>\n",
       "      <td>-0.006387</td>\n",
       "      <td>0.183009</td>\n",
       "    </tr>\n",
       "    <tr>\n",
       "      <th>2021-01-22</th>\n",
       "      <td>13366.40</td>\n",
       "      <td>2462.53</td>\n",
       "      <td>-0.002879</td>\n",
       "      <td>0.003787</td>\n",
       "      <td>0.184233</td>\n",
       "    </tr>\n",
       "    <tr>\n",
       "      <th>2021-01-25</th>\n",
       "      <td>13483.29</td>\n",
       "      <td>2453.80</td>\n",
       "      <td>0.008745</td>\n",
       "      <td>-0.003545</td>\n",
       "      <td>0.181988</td>\n",
       "    </tr>\n",
       "  </tbody>\n",
       "</table>\n",
       "<p>1647 rows × 5 columns</p>\n",
       "</div>"
      ],
      "text/plain": [
       "                 NDX      MID     X_ret     Y_ret     ratio\n",
       "Date                                                       \n",
       "2013-02-07   2746.50  1102.62       NaN       NaN  0.401464\n",
       "2013-02-08   2775.56  1109.09  0.010581  0.005868  0.399591\n",
       "2013-02-14   2771.43  1117.12 -0.001488  0.007240  0.403084\n",
       "2013-02-15   2764.67  1115.75 -0.002439 -0.001226  0.403574\n",
       "2013-02-19   2782.86  1123.74  0.006579  0.007161  0.403808\n",
       "...              ...      ...       ...       ...       ...\n",
       "2021-01-19  12996.54  2444.10  0.015043  0.008280  0.188058\n",
       "2021-01-20  13296.45  2469.01  0.023076  0.010192  0.185689\n",
       "2021-01-21  13404.99  2453.24  0.008163 -0.006387  0.183009\n",
       "2021-01-22  13366.40  2462.53 -0.002879  0.003787  0.184233\n",
       "2021-01-25  13483.29  2453.80  0.008745 -0.003545  0.181988\n",
       "\n",
       "[1647 rows x 5 columns]"
      ]
     },
     "execution_count": 24,
     "metadata": {},
     "output_type": "execute_result"
    }
   ],
   "source": [
    "ret['X_ret'] = ret.iloc[:,0] / ret.iloc[:,0].shift(1) - 1\n",
    "ret['Y_ret'] = ret.iloc[:,1] / ret.iloc[:,1].shift(1) - 1\n",
    "ret['ratio'] = ret.iloc[:,1] / ret.iloc[:, 0]\n",
    "ret"
   ]
  },
  {
   "cell_type": "code",
   "execution_count": 25,
   "id": "e22a7f93",
   "metadata": {},
   "outputs": [
    {
     "data": {
      "text/html": [
       "<div>\n",
       "<style scoped>\n",
       "    .dataframe tbody tr th:only-of-type {\n",
       "        vertical-align: middle;\n",
       "    }\n",
       "\n",
       "    .dataframe tbody tr th {\n",
       "        vertical-align: top;\n",
       "    }\n",
       "\n",
       "    .dataframe thead th {\n",
       "        text-align: right;\n",
       "    }\n",
       "</style>\n",
       "<table border=\"1\" class=\"dataframe\">\n",
       "  <thead>\n",
       "    <tr style=\"text-align: right;\">\n",
       "      <th></th>\n",
       "      <th>NDX</th>\n",
       "      <th>MID</th>\n",
       "    </tr>\n",
       "    <tr>\n",
       "      <th>Date</th>\n",
       "      <th></th>\n",
       "      <th></th>\n",
       "    </tr>\n",
       "  </thead>\n",
       "  <tbody>\n",
       "    <tr>\n",
       "      <th>2013-02-07</th>\n",
       "      <td>-1</td>\n",
       "      <td>1</td>\n",
       "    </tr>\n",
       "    <tr>\n",
       "      <th>2013-02-08</th>\n",
       "      <td>-1</td>\n",
       "      <td>1</td>\n",
       "    </tr>\n",
       "    <tr>\n",
       "      <th>2013-02-14</th>\n",
       "      <td>0</td>\n",
       "      <td>0</td>\n",
       "    </tr>\n",
       "    <tr>\n",
       "      <th>2013-02-15</th>\n",
       "      <td>1</td>\n",
       "      <td>-1</td>\n",
       "    </tr>\n",
       "    <tr>\n",
       "      <th>2013-02-19</th>\n",
       "      <td>1</td>\n",
       "      <td>-1</td>\n",
       "    </tr>\n",
       "    <tr>\n",
       "      <th>...</th>\n",
       "      <td>...</td>\n",
       "      <td>...</td>\n",
       "    </tr>\n",
       "    <tr>\n",
       "      <th>2021-01-19</th>\n",
       "      <td>1</td>\n",
       "      <td>-1</td>\n",
       "    </tr>\n",
       "    <tr>\n",
       "      <th>2021-01-20</th>\n",
       "      <td>0</td>\n",
       "      <td>0</td>\n",
       "    </tr>\n",
       "    <tr>\n",
       "      <th>2021-01-21</th>\n",
       "      <td>1</td>\n",
       "      <td>-1</td>\n",
       "    </tr>\n",
       "    <tr>\n",
       "      <th>2021-01-22</th>\n",
       "      <td>0</td>\n",
       "      <td>0</td>\n",
       "    </tr>\n",
       "    <tr>\n",
       "      <th>2021-01-25</th>\n",
       "      <td>1</td>\n",
       "      <td>-1</td>\n",
       "    </tr>\n",
       "  </tbody>\n",
       "</table>\n",
       "<p>1647 rows × 2 columns</p>\n",
       "</div>"
      ],
      "text/plain": [
       "           NDX MID\n",
       "Date              \n",
       "2013-02-07  -1   1\n",
       "2013-02-08  -1   1\n",
       "2013-02-14   0   0\n",
       "2013-02-15   1  -1\n",
       "2013-02-19   1  -1\n",
       "...         ..  ..\n",
       "2021-01-19   1  -1\n",
       "2021-01-20   0   0\n",
       "2021-01-21   1  -1\n",
       "2021-01-22   0   0\n",
       "2021-01-25   1  -1\n",
       "\n",
       "[1647 rows x 2 columns]"
      ]
     },
     "execution_count": 25,
     "metadata": {},
     "output_type": "execute_result"
    },
    {
     "data": {
      "text/html": [
       "<div>\n",
       "<style scoped>\n",
       "    .dataframe tbody tr th:only-of-type {\n",
       "        vertical-align: middle;\n",
       "    }\n",
       "\n",
       "    .dataframe tbody tr th {\n",
       "        vertical-align: top;\n",
       "    }\n",
       "\n",
       "    .dataframe thead th {\n",
       "        text-align: right;\n",
       "    }\n",
       "</style>\n",
       "<table border=\"1\" class=\"dataframe\">\n",
       "  <thead>\n",
       "    <tr style=\"text-align: right;\">\n",
       "      <th></th>\n",
       "      <th>NDX</th>\n",
       "      <th>MID</th>\n",
       "      <th>X_ret</th>\n",
       "      <th>Y_ret</th>\n",
       "      <th>ratio</th>\n",
       "    </tr>\n",
       "    <tr>\n",
       "      <th>Date</th>\n",
       "      <th></th>\n",
       "      <th></th>\n",
       "      <th></th>\n",
       "      <th></th>\n",
       "      <th></th>\n",
       "    </tr>\n",
       "  </thead>\n",
       "  <tbody>\n",
       "    <tr>\n",
       "      <th>2013-02-07</th>\n",
       "      <td>2746.50</td>\n",
       "      <td>1102.62</td>\n",
       "      <td>NaN</td>\n",
       "      <td>NaN</td>\n",
       "      <td>0.401464</td>\n",
       "    </tr>\n",
       "    <tr>\n",
       "      <th>2013-02-08</th>\n",
       "      <td>2775.56</td>\n",
       "      <td>1109.09</td>\n",
       "      <td>0.010581</td>\n",
       "      <td>0.005868</td>\n",
       "      <td>0.399591</td>\n",
       "    </tr>\n",
       "    <tr>\n",
       "      <th>2013-02-14</th>\n",
       "      <td>2771.43</td>\n",
       "      <td>1117.12</td>\n",
       "      <td>-0.001488</td>\n",
       "      <td>0.007240</td>\n",
       "      <td>0.403084</td>\n",
       "    </tr>\n",
       "    <tr>\n",
       "      <th>2013-02-15</th>\n",
       "      <td>2764.67</td>\n",
       "      <td>1115.75</td>\n",
       "      <td>-0.002439</td>\n",
       "      <td>-0.001226</td>\n",
       "      <td>0.403574</td>\n",
       "    </tr>\n",
       "    <tr>\n",
       "      <th>2013-02-19</th>\n",
       "      <td>2782.86</td>\n",
       "      <td>1123.74</td>\n",
       "      <td>0.006579</td>\n",
       "      <td>0.007161</td>\n",
       "      <td>0.403808</td>\n",
       "    </tr>\n",
       "    <tr>\n",
       "      <th>...</th>\n",
       "      <td>...</td>\n",
       "      <td>...</td>\n",
       "      <td>...</td>\n",
       "      <td>...</td>\n",
       "      <td>...</td>\n",
       "    </tr>\n",
       "    <tr>\n",
       "      <th>2021-01-19</th>\n",
       "      <td>12996.54</td>\n",
       "      <td>2444.10</td>\n",
       "      <td>0.015043</td>\n",
       "      <td>0.008280</td>\n",
       "      <td>0.188058</td>\n",
       "    </tr>\n",
       "    <tr>\n",
       "      <th>2021-01-20</th>\n",
       "      <td>13296.45</td>\n",
       "      <td>2469.01</td>\n",
       "      <td>0.023076</td>\n",
       "      <td>0.010192</td>\n",
       "      <td>0.185689</td>\n",
       "    </tr>\n",
       "    <tr>\n",
       "      <th>2021-01-21</th>\n",
       "      <td>13404.99</td>\n",
       "      <td>2453.24</td>\n",
       "      <td>0.008163</td>\n",
       "      <td>-0.006387</td>\n",
       "      <td>0.183009</td>\n",
       "    </tr>\n",
       "    <tr>\n",
       "      <th>2021-01-22</th>\n",
       "      <td>13366.40</td>\n",
       "      <td>2462.53</td>\n",
       "      <td>-0.002879</td>\n",
       "      <td>0.003787</td>\n",
       "      <td>0.184233</td>\n",
       "    </tr>\n",
       "    <tr>\n",
       "      <th>2021-01-25</th>\n",
       "      <td>13483.29</td>\n",
       "      <td>2453.80</td>\n",
       "      <td>0.008745</td>\n",
       "      <td>-0.003545</td>\n",
       "      <td>0.181988</td>\n",
       "    </tr>\n",
       "  </tbody>\n",
       "</table>\n",
       "<p>1647 rows × 5 columns</p>\n",
       "</div>"
      ],
      "text/plain": [
       "                 NDX      MID     X_ret     Y_ret     ratio\n",
       "Date                                                       \n",
       "2013-02-07   2746.50  1102.62       NaN       NaN  0.401464\n",
       "2013-02-08   2775.56  1109.09  0.010581  0.005868  0.399591\n",
       "2013-02-14   2771.43  1117.12 -0.001488  0.007240  0.403084\n",
       "2013-02-15   2764.67  1115.75 -0.002439 -0.001226  0.403574\n",
       "2013-02-19   2782.86  1123.74  0.006579  0.007161  0.403808\n",
       "...              ...      ...       ...       ...       ...\n",
       "2021-01-19  12996.54  2444.10  0.015043  0.008280  0.188058\n",
       "2021-01-20  13296.45  2469.01  0.023076  0.010192  0.185689\n",
       "2021-01-21  13404.99  2453.24  0.008163 -0.006387  0.183009\n",
       "2021-01-22  13366.40  2462.53 -0.002879  0.003787  0.184233\n",
       "2021-01-25  13483.29  2453.80  0.008745 -0.003545  0.181988\n",
       "\n",
       "[1647 rows x 5 columns]"
      ]
     },
     "execution_count": 25,
     "metadata": {},
     "output_type": "execute_result"
    }
   ],
   "source": [
    "signal\n",
    "ret"
   ]
  },
  {
   "cell_type": "code",
   "execution_count": 26,
   "id": "2c216bbc",
   "metadata": {},
   "outputs": [],
   "source": [
    "# # function for backtest returns\n",
    "# def backtest(d, ret):\n",
    "\n",
    "    # multiply daily ret inplace of b/s, find sum of two ret for daily ret, then cumprod\n",
    "#     d[f'{target}_ret'] = d[f'{target}'].shift(1) * ret['Y_ret'] \n",
    "#     d[f'{feature}_ret'] = d[f'{feature}'].shift(1) * ret['X_ret'] \n",
    "#     d['dret'] = d[f'{target}_ret'] + d[f'{feature}_ret']\n",
    "#     d.dropna(inplace=True)\n",
    "#     d['cumpl'] = np.cumprod(1 + d['dret'].values)\n",
    "#     return d\n",
    "    \n",
    "def backtest(df,ret,funds=10000):\n",
    "    \n",
    "    initial_funds = funds\n",
    "    dfx = ret.iloc[:, 0]\n",
    "    dfy = ret.iloc[:, 1]\n",
    "    test = df.copy()\n",
    "    \n",
    "    test.iloc[0,0]  = 0\n",
    "    test.iloc[0,1]  = 0\n",
    "    test.iloc[-1,1]  = 0\n",
    "    test.iloc[-1,0]  = 0\n",
    "\n",
    "    test['cumpl'] = \" \"\n",
    "    test['cumpl'][0] = 0\n",
    "\n",
    "    ratio = (dfy[0]/dfx[0])\n",
    "    \n",
    "    for i in range(1, len(test)):\n",
    "        Xshares = funds / dfx.iloc[i]\n",
    "        Yshares = funds / dfy.iloc[i]\n",
    "#         if(test.iloc[i,0] - test.iloc[i-1,0] != 0):#If position change != 0, change ratio;otherwise keep it\n",
    "#             ratio = (dfy[i]/dfx[i])\n",
    "        test['cumpl'][i] = test['cumpl'][i-1] + (dfx[i] - dfx[i-1])*Xshares*test.iloc[i-1,0] + (dfy[i] - dfy[i-1])*Yshares*test.iloc[i-1,1]\n",
    "        funds += (dfx[i] - dfx[i-1])*Xshares*test.iloc[i-1,0] + (dfy[i] - dfy[i-1])*Yshares*test.iloc[i-1,1]\n",
    "    test['dret'] = test['cumpl'] / test['cumpl'].shift(1)\n",
    "    test['cumpl'] = test['cumpl'] / initial_funds + 1\n",
    "    return test\n",
    "    "
   ]
  },
  {
   "cell_type": "code",
   "execution_count": 27,
   "id": "42f90013",
   "metadata": {},
   "outputs": [
    {
     "data": {
      "text/html": [
       "<div>\n",
       "<style scoped>\n",
       "    .dataframe tbody tr th:only-of-type {\n",
       "        vertical-align: middle;\n",
       "    }\n",
       "\n",
       "    .dataframe tbody tr th {\n",
       "        vertical-align: top;\n",
       "    }\n",
       "\n",
       "    .dataframe thead th {\n",
       "        text-align: right;\n",
       "    }\n",
       "</style>\n",
       "<table border=\"1\" class=\"dataframe\">\n",
       "  <thead>\n",
       "    <tr style=\"text-align: right;\">\n",
       "      <th></th>\n",
       "      <th>NDX</th>\n",
       "      <th>MID</th>\n",
       "      <th>cumpl</th>\n",
       "      <th>dret</th>\n",
       "    </tr>\n",
       "    <tr>\n",
       "      <th>Date</th>\n",
       "      <th></th>\n",
       "      <th></th>\n",
       "      <th></th>\n",
       "      <th></th>\n",
       "    </tr>\n",
       "  </thead>\n",
       "  <tbody>\n",
       "    <tr>\n",
       "      <th>2021-01-19</th>\n",
       "      <td>1</td>\n",
       "      <td>-1</td>\n",
       "      <td>2.160263</td>\n",
       "      <td>1.0</td>\n",
       "    </tr>\n",
       "    <tr>\n",
       "      <th>2021-01-20</th>\n",
       "      <td>0</td>\n",
       "      <td>0</td>\n",
       "      <td>2.187194</td>\n",
       "      <td>1.023211</td>\n",
       "    </tr>\n",
       "    <tr>\n",
       "      <th>2021-01-21</th>\n",
       "      <td>1</td>\n",
       "      <td>-1</td>\n",
       "      <td>2.187194</td>\n",
       "      <td>1.0</td>\n",
       "    </tr>\n",
       "    <tr>\n",
       "      <th>2021-01-22</th>\n",
       "      <td>0</td>\n",
       "      <td>0</td>\n",
       "      <td>2.172629</td>\n",
       "      <td>0.987731</td>\n",
       "    </tr>\n",
       "    <tr>\n",
       "      <th>2021-01-25</th>\n",
       "      <td>0</td>\n",
       "      <td>0</td>\n",
       "      <td>2.172629</td>\n",
       "      <td>1.0</td>\n",
       "    </tr>\n",
       "  </tbody>\n",
       "</table>\n",
       "</div>"
      ],
      "text/plain": [
       "           NDX MID     cumpl      dret\n",
       "Date                                  \n",
       "2021-01-19   1  -1  2.160263       1.0\n",
       "2021-01-20   0   0  2.187194  1.023211\n",
       "2021-01-21   1  -1  2.187194       1.0\n",
       "2021-01-22   0   0  2.172629  0.987731\n",
       "2021-01-25   0   0  2.172629       1.0"
      ]
     },
     "execution_count": 27,
     "metadata": {},
     "output_type": "execute_result"
    }
   ],
   "source": [
    "result = backtest(signal, ret)\n",
    "result.tail()"
   ]
  },
  {
   "cell_type": "code",
   "execution_count": 28,
   "id": "feb4acf4",
   "metadata": {},
   "outputs": [
    {
     "data": {
      "text/plain": [
       "<AxesSubplot: xlabel='Date'>"
      ]
     },
     "execution_count": 28,
     "metadata": {},
     "output_type": "execute_result"
    },
    {
     "data": {
      "image/png": "[encoded data removed]",
      "text/plain": [
       "<Figure size 640x480 with 1 Axes>"
      ]
     },
     "metadata": {},
     "output_type": "display_data"
    }
   ],
   "source": [
    "result['cumpl'].plot()"
   ]
  },
  {
   "cell_type": "markdown",
   "id": "1e316246",
   "metadata": {},
   "source": [
    "## Test"
   ]
  },
  {
   "cell_type": "code",
   "execution_count": 29,
   "id": "5fb7e363",
   "metadata": {},
   "outputs": [],
   "source": [
    "# import data\n",
    "root = 'C:/Users/Allen/Desktop/IAQF/Data/'\n",
    "all_data_test = pd.read_csv(root + 'merged_all_data.csv', index_col='Date', parse_dates=True).iloc[-414:,:]\n",
    "\n",
    "df_testx = all_data_test[feature]\n",
    "df_testy = all_data_test[target]\n",
    "df_test = all_data_test[[feature, target]]\n",
    "ret_test = df_test.copy(deep=True)\n"
   ]
  },
  {
   "cell_type": "code",
   "execution_count": 30,
   "id": "4aba562f",
   "metadata": {},
   "outputs": [
    {
     "data": {
      "text/html": [
       "<div>\n",
       "<style scoped>\n",
       "    .dataframe tbody tr th:only-of-type {\n",
       "        vertical-align: middle;\n",
       "    }\n",
       "\n",
       "    .dataframe tbody tr th {\n",
       "        vertical-align: top;\n",
       "    }\n",
       "\n",
       "    .dataframe thead th {\n",
       "        text-align: right;\n",
       "    }\n",
       "</style>\n",
       "<table border=\"1\" class=\"dataframe\">\n",
       "  <thead>\n",
       "    <tr style=\"text-align: right;\">\n",
       "      <th></th>\n",
       "      <th>NDX</th>\n",
       "      <th>MID</th>\n",
       "    </tr>\n",
       "    <tr>\n",
       "      <th>Date</th>\n",
       "      <th></th>\n",
       "      <th></th>\n",
       "    </tr>\n",
       "  </thead>\n",
       "  <tbody>\n",
       "    <tr>\n",
       "      <th>2021-01-27</th>\n",
       "      <td>13112.65</td>\n",
       "      <td>2367.26</td>\n",
       "    </tr>\n",
       "    <tr>\n",
       "      <th>2021-01-28</th>\n",
       "      <td>13201.53</td>\n",
       "      <td>2388.21</td>\n",
       "    </tr>\n",
       "    <tr>\n",
       "      <th>2021-01-29</th>\n",
       "      <td>12925.38</td>\n",
       "      <td>2340.12</td>\n",
       "    </tr>\n",
       "    <tr>\n",
       "      <th>2021-02-01</th>\n",
       "      <td>13248.90</td>\n",
       "      <td>2388.77</td>\n",
       "    </tr>\n",
       "    <tr>\n",
       "      <th>2021-02-02</th>\n",
       "      <td>13456.12</td>\n",
       "      <td>2417.44</td>\n",
       "    </tr>\n",
       "    <tr>\n",
       "      <th>...</th>\n",
       "      <td>...</td>\n",
       "      <td>...</td>\n",
       "    </tr>\n",
       "    <tr>\n",
       "      <th>2023-01-13</th>\n",
       "      <td>11541.48</td>\n",
       "      <td>2580.91</td>\n",
       "    </tr>\n",
       "    <tr>\n",
       "      <th>2023-01-17</th>\n",
       "      <td>11557.19</td>\n",
       "      <td>2575.61</td>\n",
       "    </tr>\n",
       "    <tr>\n",
       "      <th>2023-01-18</th>\n",
       "      <td>11410.29</td>\n",
       "      <td>2543.36</td>\n",
       "    </tr>\n",
       "    <tr>\n",
       "      <th>2023-01-19</th>\n",
       "      <td>11295.67</td>\n",
       "      <td>2516.89</td>\n",
       "    </tr>\n",
       "    <tr>\n",
       "      <th>2023-01-20</th>\n",
       "      <td>11619.03</td>\n",
       "      <td>2558.46</td>\n",
       "    </tr>\n",
       "  </tbody>\n",
       "</table>\n",
       "<p>414 rows × 2 columns</p>\n",
       "</div>"
      ],
      "text/plain": [
       "                 NDX      MID\n",
       "Date                         \n",
       "2021-01-27  13112.65  2367.26\n",
       "2021-01-28  13201.53  2388.21\n",
       "2021-01-29  12925.38  2340.12\n",
       "2021-02-01  13248.90  2388.77\n",
       "2021-02-02  13456.12  2417.44\n",
       "...              ...      ...\n",
       "2023-01-13  11541.48  2580.91\n",
       "2023-01-17  11557.19  2575.61\n",
       "2023-01-18  11410.29  2543.36\n",
       "2023-01-19  11295.67  2516.89\n",
       "2023-01-20  11619.03  2558.46\n",
       "\n",
       "[414 rows x 2 columns]"
      ]
     },
     "execution_count": 30,
     "metadata": {},
     "output_type": "execute_result"
    }
   ],
   "source": [
    "ret_test"
   ]
  },
  {
   "cell_type": "code",
   "execution_count": 31,
   "id": "aa5f3daa",
   "metadata": {},
   "outputs": [
    {
     "data": {
      "image/png": "[encoded data removed]",
      "text/plain": [
       "<Figure size 640x480 with 1 Axes>"
      ]
     },
     "metadata": {},
     "output_type": "display_data"
    }
   ],
   "source": [
    "ecdf_x = ECDF(df_testx) #Get the empirical CDF from the given price list\n",
    "ecdf_y = ECDF(df_testy)\n",
    "df_test['X_uniform'] = ecdf_x(df_testx) # convert the price distribution to uniform distribution based on ecdf\n",
    "df_test['Y_uniform'] = ecdf_y(df_testy)\n",
    "df_test['X_uniform'] = df_test['X_uniform'].replace([0.00, 1.00],[0.000001, 0.999999])\n",
    "df_test['Y_uniform'] = df_test['Y_uniform'].replace([0.00, 1.00],[0.000001, 0.999999])\n",
    "ax1 = df_test.plot.scatter(x='X_uniform',y='Y_uniform',s=5)"
   ]
  },
  {
   "cell_type": "code",
   "execution_count": 32,
   "id": "593972ca",
   "metadata": {},
   "outputs": [],
   "source": [
    "df_test['dfdx'] = \" \"\n",
    "df_test['dfdy'] = \" \"\n",
    "for i in range(len(df_test)): # substitue the uniform of two assets to the partial derivative function\n",
    "    df_test['dfdx'][i] = dfdx.subs([(x,df_test['X_uniform'][i]),(y,df_test['Y_uniform'][i])])\n",
    "    df_test['dfdy'][i] = dfdy.subs([(x,df_test['X_uniform'][i]),(y,df_test['Y_uniform'][i])])"
   ]
  },
  {
   "cell_type": "code",
   "execution_count": 33,
   "id": "fd14eba9",
   "metadata": {
    "scrolled": false
   },
   "outputs": [
    {
     "data": {
      "text/html": [
       "<div>\n",
       "<style scoped>\n",
       "    .dataframe tbody tr th:only-of-type {\n",
       "        vertical-align: middle;\n",
       "    }\n",
       "\n",
       "    .dataframe tbody tr th {\n",
       "        vertical-align: top;\n",
       "    }\n",
       "\n",
       "    .dataframe thead th {\n",
       "        text-align: right;\n",
       "    }\n",
       "</style>\n",
       "<table border=\"1\" class=\"dataframe\">\n",
       "  <thead>\n",
       "    <tr style=\"text-align: right;\">\n",
       "      <th></th>\n",
       "      <th>NDX</th>\n",
       "      <th>MID</th>\n",
       "      <th>X_uniform</th>\n",
       "      <th>Y_uniform</th>\n",
       "      <th>dfdx</th>\n",
       "      <th>dfdy</th>\n",
       "      <th>X_position</th>\n",
       "      <th>Y_position</th>\n",
       "    </tr>\n",
       "    <tr>\n",
       "      <th>Date</th>\n",
       "      <th></th>\n",
       "      <th></th>\n",
       "      <th></th>\n",
       "      <th></th>\n",
       "      <th></th>\n",
       "      <th></th>\n",
       "      <th></th>\n",
       "      <th></th>\n",
       "    </tr>\n",
       "  </thead>\n",
       "  <tbody>\n",
       "    <tr>\n",
       "      <th>2021-01-27</th>\n",
       "      <td>13112.65</td>\n",
       "      <td>2367.26</td>\n",
       "      <td>0.400966</td>\n",
       "      <td>0.103865</td>\n",
       "      <td>0.00809069863951445</td>\n",
       "      <td>0.953395790475858</td>\n",
       "      <td>-1</td>\n",
       "      <td>1</td>\n",
       "    </tr>\n",
       "    <tr>\n",
       "      <th>2021-01-28</th>\n",
       "      <td>13201.53</td>\n",
       "      <td>2388.21</td>\n",
       "      <td>0.410628</td>\n",
       "      <td>0.130435</td>\n",
       "      <td>0.0101897511445360</td>\n",
       "      <td>0.954076316024964</td>\n",
       "      <td>-1</td>\n",
       "      <td>1</td>\n",
       "    </tr>\n",
       "    <tr>\n",
       "      <th>2021-01-29</th>\n",
       "      <td>12925.38</td>\n",
       "      <td>2340.12</td>\n",
       "      <td>0.369565</td>\n",
       "      <td>0.094203</td>\n",
       "      <td>0.00734554739104119</td>\n",
       "      <td>0.950942230354382</td>\n",
       "      <td>-1</td>\n",
       "      <td>1</td>\n",
       "    </tr>\n",
       "    <tr>\n",
       "      <th>2021-02-01</th>\n",
       "      <td>13248.90</td>\n",
       "      <td>2388.77</td>\n",
       "      <td>0.425121</td>\n",
       "      <td>0.135266</td>\n",
       "      <td>0.0105593885727618</td>\n",
       "      <td>0.955212810279693</td>\n",
       "      <td>-1</td>\n",
       "      <td>1</td>\n",
       "    </tr>\n",
       "    <tr>\n",
       "      <th>2021-02-02</th>\n",
       "      <td>13456.12</td>\n",
       "      <td>2417.44</td>\n",
       "      <td>0.468599</td>\n",
       "      <td>0.181159</td>\n",
       "      <td>0.0142252571549781</td>\n",
       "      <td>0.958359580324809</td>\n",
       "      <td>-1</td>\n",
       "      <td>1</td>\n",
       "    </tr>\n",
       "    <tr>\n",
       "      <th>...</th>\n",
       "      <td>...</td>\n",
       "      <td>...</td>\n",
       "      <td>...</td>\n",
       "      <td>...</td>\n",
       "      <td>...</td>\n",
       "      <td>...</td>\n",
       "      <td>...</td>\n",
       "      <td>...</td>\n",
       "    </tr>\n",
       "    <tr>\n",
       "      <th>2023-01-13</th>\n",
       "      <td>11541.48</td>\n",
       "      <td>2580.91</td>\n",
       "      <td>0.125604</td>\n",
       "      <td>0.449275</td>\n",
       "      <td>0.957152345259277</td>\n",
       "      <td>0.00977909296101903</td>\n",
       "      <td>1</td>\n",
       "      <td>-1</td>\n",
       "    </tr>\n",
       "    <tr>\n",
       "      <th>2023-01-17</th>\n",
       "      <td>11557.19</td>\n",
       "      <td>2575.61</td>\n",
       "      <td>0.137681</td>\n",
       "      <td>0.434783</td>\n",
       "      <td>0.955972972264871</td>\n",
       "      <td>0.0107421611939456</td>\n",
       "      <td>1</td>\n",
       "      <td>-1</td>\n",
       "    </tr>\n",
       "    <tr>\n",
       "      <th>2023-01-18</th>\n",
       "      <td>11410.29</td>\n",
       "      <td>2543.36</td>\n",
       "      <td>0.103865</td>\n",
       "      <td>0.388889</td>\n",
       "      <td>0.952444671025844</td>\n",
       "      <td>0.00809677672651432</td>\n",
       "      <td>1</td>\n",
       "      <td>-1</td>\n",
       "    </tr>\n",
       "    <tr>\n",
       "      <th>2023-01-19</th>\n",
       "      <td>11295.67</td>\n",
       "      <td>2516.89</td>\n",
       "      <td>0.089372</td>\n",
       "      <td>0.328502</td>\n",
       "      <td>0.947688282327980</td>\n",
       "      <td>0.00699977897886818</td>\n",
       "      <td>1</td>\n",
       "      <td>-1</td>\n",
       "    </tr>\n",
       "    <tr>\n",
       "      <th>2023-01-20</th>\n",
       "      <td>11619.03</td>\n",
       "      <td>2558.46</td>\n",
       "      <td>0.149758</td>\n",
       "      <td>0.405797</td>\n",
       "      <td>0.953502816161522</td>\n",
       "      <td>0.0117885758775408</td>\n",
       "      <td>1</td>\n",
       "      <td>-1</td>\n",
       "    </tr>\n",
       "  </tbody>\n",
       "</table>\n",
       "<p>414 rows × 8 columns</p>\n",
       "</div>"
      ],
      "text/plain": [
       "                 NDX      MID  X_uniform  Y_uniform                 dfdx  \\\n",
       "Date                                                                       \n",
       "2021-01-27  13112.65  2367.26   0.400966   0.103865  0.00809069863951445   \n",
       "2021-01-28  13201.53  2388.21   0.410628   0.130435   0.0101897511445360   \n",
       "2021-01-29  12925.38  2340.12   0.369565   0.094203  0.00734554739104119   \n",
       "2021-02-01  13248.90  2388.77   0.425121   0.135266   0.0105593885727618   \n",
       "2021-02-02  13456.12  2417.44   0.468599   0.181159   0.0142252571549781   \n",
       "...              ...      ...        ...        ...                  ...   \n",
       "2023-01-13  11541.48  2580.91   0.125604   0.449275    0.957152345259277   \n",
       "2023-01-17  11557.19  2575.61   0.137681   0.434783    0.955972972264871   \n",
       "2023-01-18  11410.29  2543.36   0.103865   0.388889    0.952444671025844   \n",
       "2023-01-19  11295.67  2516.89   0.089372   0.328502    0.947688282327980   \n",
       "2023-01-20  11619.03  2558.46   0.149758   0.405797    0.953502816161522   \n",
       "\n",
       "                           dfdy X_position Y_position  \n",
       "Date                                                   \n",
       "2021-01-27    0.953395790475858         -1          1  \n",
       "2021-01-28    0.954076316024964         -1          1  \n",
       "2021-01-29    0.950942230354382         -1          1  \n",
       "2021-02-01    0.955212810279693         -1          1  \n",
       "2021-02-02    0.958359580324809         -1          1  \n",
       "...                         ...        ...        ...  \n",
       "2023-01-13  0.00977909296101903          1         -1  \n",
       "2023-01-17   0.0107421611939456          1         -1  \n",
       "2023-01-18  0.00809677672651432          1         -1  \n",
       "2023-01-19  0.00699977897886818          1         -1  \n",
       "2023-01-20   0.0117885758775408          1         -1  \n",
       "\n",
       "[414 rows x 8 columns]"
      ]
     },
     "execution_count": 33,
     "metadata": {},
     "output_type": "execute_result"
    }
   ],
   "source": [
    "generate_signal(df_test)\n",
    "df_test"
   ]
  },
  {
   "cell_type": "code",
   "execution_count": 34,
   "id": "2be67a3d",
   "metadata": {
    "scrolled": false
   },
   "outputs": [
    {
     "data": {
      "image/png": "[encoded data removed]",
      "text/plain": [
       "<Figure size 640x480 with 2 Axes>"
      ]
     },
     "metadata": {},
     "output_type": "display_data"
    }
   ],
   "source": [
    "fig, axs = plt.subplots(2)\n",
    "_ = axs[0].plot(df_test['X_position'])\n",
    "_ = axs[1].plot(df_test['Y_position'])\n",
    "_ =axs[0].set(ylabel=f\"{feature} Signals\")\n",
    "_ = axs[1].set(ylabel=f\"{target} Signals\")\n",
    "_ = plt.xlabel('Date')"
   ]
  },
  {
   "cell_type": "code",
   "execution_count": 35,
   "id": "7235b412",
   "metadata": {},
   "outputs": [
    {
     "data": {
      "text/html": [
       "<div>\n",
       "<style scoped>\n",
       "    .dataframe tbody tr th:only-of-type {\n",
       "        vertical-align: middle;\n",
       "    }\n",
       "\n",
       "    .dataframe tbody tr th {\n",
       "        vertical-align: top;\n",
       "    }\n",
       "\n",
       "    .dataframe thead th {\n",
       "        text-align: right;\n",
       "    }\n",
       "</style>\n",
       "<table border=\"1\" class=\"dataframe\">\n",
       "  <thead>\n",
       "    <tr style=\"text-align: right;\">\n",
       "      <th></th>\n",
       "      <th>NDX</th>\n",
       "      <th>MID</th>\n",
       "    </tr>\n",
       "    <tr>\n",
       "      <th>Date</th>\n",
       "      <th></th>\n",
       "      <th></th>\n",
       "    </tr>\n",
       "  </thead>\n",
       "  <tbody>\n",
       "    <tr>\n",
       "      <th>2021-01-27</th>\n",
       "      <td>-1</td>\n",
       "      <td>1</td>\n",
       "    </tr>\n",
       "    <tr>\n",
       "      <th>2021-01-28</th>\n",
       "      <td>-1</td>\n",
       "      <td>1</td>\n",
       "    </tr>\n",
       "    <tr>\n",
       "      <th>2021-01-29</th>\n",
       "      <td>-1</td>\n",
       "      <td>1</td>\n",
       "    </tr>\n",
       "    <tr>\n",
       "      <th>2021-02-01</th>\n",
       "      <td>-1</td>\n",
       "      <td>1</td>\n",
       "    </tr>\n",
       "    <tr>\n",
       "      <th>2021-02-02</th>\n",
       "      <td>-1</td>\n",
       "      <td>1</td>\n",
       "    </tr>\n",
       "    <tr>\n",
       "      <th>...</th>\n",
       "      <td>...</td>\n",
       "      <td>...</td>\n",
       "    </tr>\n",
       "    <tr>\n",
       "      <th>2023-01-13</th>\n",
       "      <td>1</td>\n",
       "      <td>-1</td>\n",
       "    </tr>\n",
       "    <tr>\n",
       "      <th>2023-01-17</th>\n",
       "      <td>1</td>\n",
       "      <td>-1</td>\n",
       "    </tr>\n",
       "    <tr>\n",
       "      <th>2023-01-18</th>\n",
       "      <td>1</td>\n",
       "      <td>-1</td>\n",
       "    </tr>\n",
       "    <tr>\n",
       "      <th>2023-01-19</th>\n",
       "      <td>1</td>\n",
       "      <td>-1</td>\n",
       "    </tr>\n",
       "    <tr>\n",
       "      <th>2023-01-20</th>\n",
       "      <td>1</td>\n",
       "      <td>-1</td>\n",
       "    </tr>\n",
       "  </tbody>\n",
       "</table>\n",
       "<p>414 rows × 2 columns</p>\n",
       "</div>"
      ],
      "text/plain": [
       "           NDX MID\n",
       "Date              \n",
       "2021-01-27  -1   1\n",
       "2021-01-28  -1   1\n",
       "2021-01-29  -1   1\n",
       "2021-02-01  -1   1\n",
       "2021-02-02  -1   1\n",
       "...         ..  ..\n",
       "2023-01-13   1  -1\n",
       "2023-01-17   1  -1\n",
       "2023-01-18   1  -1\n",
       "2023-01-19   1  -1\n",
       "2023-01-20   1  -1\n",
       "\n",
       "[414 rows x 2 columns]"
      ]
     },
     "execution_count": 35,
     "metadata": {},
     "output_type": "execute_result"
    }
   ],
   "source": [
    "signal_test = df_test[['X_position', 'Y_position']].rename(columns={'X_position': f'{feature}', 'Y_position': f'{target}'})\n",
    "signal_test"
   ]
  },
  {
   "cell_type": "code",
   "execution_count": 36,
   "id": "84bcc80f",
   "metadata": {},
   "outputs": [
    {
     "data": {
      "text/html": [
       "<div>\n",
       "<style scoped>\n",
       "    .dataframe tbody tr th:only-of-type {\n",
       "        vertical-align: middle;\n",
       "    }\n",
       "\n",
       "    .dataframe tbody tr th {\n",
       "        vertical-align: top;\n",
       "    }\n",
       "\n",
       "    .dataframe thead th {\n",
       "        text-align: right;\n",
       "    }\n",
       "</style>\n",
       "<table border=\"1\" class=\"dataframe\">\n",
       "  <thead>\n",
       "    <tr style=\"text-align: right;\">\n",
       "      <th></th>\n",
       "      <th>NDX</th>\n",
       "      <th>MID</th>\n",
       "      <th>X_ret</th>\n",
       "      <th>Y_ret</th>\n",
       "      <th>ratio</th>\n",
       "    </tr>\n",
       "    <tr>\n",
       "      <th>Date</th>\n",
       "      <th></th>\n",
       "      <th></th>\n",
       "      <th></th>\n",
       "      <th></th>\n",
       "      <th></th>\n",
       "    </tr>\n",
       "  </thead>\n",
       "  <tbody>\n",
       "    <tr>\n",
       "      <th>2021-01-27</th>\n",
       "      <td>13112.65</td>\n",
       "      <td>2367.26</td>\n",
       "      <td>NaN</td>\n",
       "      <td>NaN</td>\n",
       "      <td>0.180533</td>\n",
       "    </tr>\n",
       "    <tr>\n",
       "      <th>2021-01-28</th>\n",
       "      <td>13201.53</td>\n",
       "      <td>2388.21</td>\n",
       "      <td>0.006778</td>\n",
       "      <td>0.008850</td>\n",
       "      <td>0.180904</td>\n",
       "    </tr>\n",
       "    <tr>\n",
       "      <th>2021-01-29</th>\n",
       "      <td>12925.38</td>\n",
       "      <td>2340.12</td>\n",
       "      <td>-0.020918</td>\n",
       "      <td>-0.020136</td>\n",
       "      <td>0.181048</td>\n",
       "    </tr>\n",
       "    <tr>\n",
       "      <th>2021-02-01</th>\n",
       "      <td>13248.90</td>\n",
       "      <td>2388.77</td>\n",
       "      <td>0.025030</td>\n",
       "      <td>0.020790</td>\n",
       "      <td>0.180299</td>\n",
       "    </tr>\n",
       "    <tr>\n",
       "      <th>2021-02-02</th>\n",
       "      <td>13456.12</td>\n",
       "      <td>2417.44</td>\n",
       "      <td>0.015641</td>\n",
       "      <td>0.012002</td>\n",
       "      <td>0.179654</td>\n",
       "    </tr>\n",
       "    <tr>\n",
       "      <th>...</th>\n",
       "      <td>...</td>\n",
       "      <td>...</td>\n",
       "      <td>...</td>\n",
       "      <td>...</td>\n",
       "      <td>...</td>\n",
       "    </tr>\n",
       "    <tr>\n",
       "      <th>2023-01-13</th>\n",
       "      <td>11541.48</td>\n",
       "      <td>2580.91</td>\n",
       "      <td>0.007144</td>\n",
       "      <td>0.004882</td>\n",
       "      <td>0.223620</td>\n",
       "    </tr>\n",
       "    <tr>\n",
       "      <th>2023-01-17</th>\n",
       "      <td>11557.19</td>\n",
       "      <td>2575.61</td>\n",
       "      <td>0.001361</td>\n",
       "      <td>-0.002054</td>\n",
       "      <td>0.222858</td>\n",
       "    </tr>\n",
       "    <tr>\n",
       "      <th>2023-01-18</th>\n",
       "      <td>11410.29</td>\n",
       "      <td>2543.36</td>\n",
       "      <td>-0.012711</td>\n",
       "      <td>-0.012521</td>\n",
       "      <td>0.222901</td>\n",
       "    </tr>\n",
       "    <tr>\n",
       "      <th>2023-01-19</th>\n",
       "      <td>11295.67</td>\n",
       "      <td>2516.89</td>\n",
       "      <td>-0.010045</td>\n",
       "      <td>-0.010407</td>\n",
       "      <td>0.222819</td>\n",
       "    </tr>\n",
       "    <tr>\n",
       "      <th>2023-01-20</th>\n",
       "      <td>11619.03</td>\n",
       "      <td>2558.46</td>\n",
       "      <td>0.028627</td>\n",
       "      <td>0.016516</td>\n",
       "      <td>0.220196</td>\n",
       "    </tr>\n",
       "  </tbody>\n",
       "</table>\n",
       "<p>414 rows × 5 columns</p>\n",
       "</div>"
      ],
      "text/plain": [
       "                 NDX      MID     X_ret     Y_ret     ratio\n",
       "Date                                                       \n",
       "2021-01-27  13112.65  2367.26       NaN       NaN  0.180533\n",
       "2021-01-28  13201.53  2388.21  0.006778  0.008850  0.180904\n",
       "2021-01-29  12925.38  2340.12 -0.020918 -0.020136  0.181048\n",
       "2021-02-01  13248.90  2388.77  0.025030  0.020790  0.180299\n",
       "2021-02-02  13456.12  2417.44  0.015641  0.012002  0.179654\n",
       "...              ...      ...       ...       ...       ...\n",
       "2023-01-13  11541.48  2580.91  0.007144  0.004882  0.223620\n",
       "2023-01-17  11557.19  2575.61  0.001361 -0.002054  0.222858\n",
       "2023-01-18  11410.29  2543.36 -0.012711 -0.012521  0.222901\n",
       "2023-01-19  11295.67  2516.89 -0.010045 -0.010407  0.222819\n",
       "2023-01-20  11619.03  2558.46  0.028627  0.016516  0.220196\n",
       "\n",
       "[414 rows x 5 columns]"
      ]
     },
     "execution_count": 36,
     "metadata": {},
     "output_type": "execute_result"
    }
   ],
   "source": [
    "ret_test['X_ret'] = ret_test.iloc[:,0] / ret_test.iloc[:,0].shift(1) - 1\n",
    "ret_test['Y_ret'] = ret_test.iloc[:,1] / ret_test.iloc[:,1].shift(1) - 1\n",
    "ret_test['ratio'] = ret_test.iloc[:,1] / ret_test.iloc[:,0]\n",
    "ret_test"
   ]
  },
  {
   "cell_type": "code",
   "execution_count": 80,
   "id": "57139e55",
   "metadata": {},
   "outputs": [
    {
     "data": {
      "text/html": [
       "<div>\n",
       "<style scoped>\n",
       "    .dataframe tbody tr th:only-of-type {\n",
       "        vertical-align: middle;\n",
       "    }\n",
       "\n",
       "    .dataframe tbody tr th {\n",
       "        vertical-align: top;\n",
       "    }\n",
       "\n",
       "    .dataframe thead th {\n",
       "        text-align: right;\n",
       "    }\n",
       "</style>\n",
       "<table border=\"1\" class=\"dataframe\">\n",
       "  <thead>\n",
       "    <tr style=\"text-align: right;\">\n",
       "      <th></th>\n",
       "      <th>NDX</th>\n",
       "      <th>MID</th>\n",
       "      <th>cumpl</th>\n",
       "      <th>dret</th>\n",
       "    </tr>\n",
       "    <tr>\n",
       "      <th>Date</th>\n",
       "      <th></th>\n",
       "      <th></th>\n",
       "      <th></th>\n",
       "      <th></th>\n",
       "    </tr>\n",
       "  </thead>\n",
       "  <tbody>\n",
       "    <tr>\n",
       "      <th>2021-01-27</th>\n",
       "      <td>0</td>\n",
       "      <td>0</td>\n",
       "      <td>1.0</td>\n",
       "      <td>NaN</td>\n",
       "    </tr>\n",
       "    <tr>\n",
       "      <th>2021-01-28</th>\n",
       "      <td>-1</td>\n",
       "      <td>1</td>\n",
       "      <td>1.0</td>\n",
       "      <td>NaN</td>\n",
       "    </tr>\n",
       "    <tr>\n",
       "      <th>2021-01-29</th>\n",
       "      <td>-1</td>\n",
       "      <td>1</td>\n",
       "      <td>1.000815</td>\n",
       "      <td>inf</td>\n",
       "    </tr>\n",
       "    <tr>\n",
       "      <th>2021-02-01</th>\n",
       "      <td>-1</td>\n",
       "      <td>1</td>\n",
       "      <td>0.996759</td>\n",
       "      <td>-3.97819</td>\n",
       "    </tr>\n",
       "    <tr>\n",
       "      <th>2021-02-02</th>\n",
       "      <td>-1</td>\n",
       "      <td>1</td>\n",
       "      <td>0.99323</td>\n",
       "      <td>2.088695</td>\n",
       "    </tr>\n",
       "    <tr>\n",
       "      <th>2021-02-03</th>\n",
       "      <td>-1</td>\n",
       "      <td>1</td>\n",
       "      <td>0.997809</td>\n",
       "      <td>0.323639</td>\n",
       "    </tr>\n",
       "    <tr>\n",
       "      <th>2021-02-04</th>\n",
       "      <td>-1</td>\n",
       "      <td>1</td>\n",
       "      <td>0.999751</td>\n",
       "      <td>0.113501</td>\n",
       "    </tr>\n",
       "    <tr>\n",
       "      <th>2021-02-05</th>\n",
       "      <td>-1</td>\n",
       "      <td>1</td>\n",
       "      <td>1.006411</td>\n",
       "      <td>-25.782542</td>\n",
       "    </tr>\n",
       "    <tr>\n",
       "      <th>2021-02-08</th>\n",
       "      <td>-1</td>\n",
       "      <td>1</td>\n",
       "      <td>1.015853</td>\n",
       "      <td>2.472672</td>\n",
       "    </tr>\n",
       "    <tr>\n",
       "      <th>2021-02-09</th>\n",
       "      <td>-1</td>\n",
       "      <td>1</td>\n",
       "      <td>1.018907</td>\n",
       "      <td>1.192598</td>\n",
       "    </tr>\n",
       "    <tr>\n",
       "      <th>2021-02-10</th>\n",
       "      <td>-1</td>\n",
       "      <td>1</td>\n",
       "      <td>1.019703</td>\n",
       "      <td>1.042112</td>\n",
       "    </tr>\n",
       "    <tr>\n",
       "      <th>2021-02-16</th>\n",
       "      <td>-1</td>\n",
       "      <td>1</td>\n",
       "      <td>1.018958</td>\n",
       "      <td>0.962176</td>\n",
       "    </tr>\n",
       "    <tr>\n",
       "      <th>2021-02-17</th>\n",
       "      <td>-1</td>\n",
       "      <td>1</td>\n",
       "      <td>1.018971</td>\n",
       "      <td>1.000709</td>\n",
       "    </tr>\n",
       "    <tr>\n",
       "      <th>2021-02-18</th>\n",
       "      <td>-1</td>\n",
       "      <td>1</td>\n",
       "      <td>1.011799</td>\n",
       "      <td>0.621942</td>\n",
       "    </tr>\n",
       "    <tr>\n",
       "      <th>2021-02-19</th>\n",
       "      <td>-1</td>\n",
       "      <td>1</td>\n",
       "      <td>1.031485</td>\n",
       "      <td>2.668509</td>\n",
       "    </tr>\n",
       "    <tr>\n",
       "      <th>2021-02-22</th>\n",
       "      <td>-1</td>\n",
       "      <td>1</td>\n",
       "      <td>1.055919</td>\n",
       "      <td>1.776029</td>\n",
       "    </tr>\n",
       "    <tr>\n",
       "      <th>2021-02-24</th>\n",
       "      <td>0</td>\n",
       "      <td>0</td>\n",
       "      <td>1.070452</td>\n",
       "      <td>1.259895</td>\n",
       "    </tr>\n",
       "    <tr>\n",
       "      <th>2021-02-25</th>\n",
       "      <td>-1</td>\n",
       "      <td>1</td>\n",
       "      <td>1.070452</td>\n",
       "      <td>1.0</td>\n",
       "    </tr>\n",
       "    <tr>\n",
       "      <th>2021-02-26</th>\n",
       "      <td>-1</td>\n",
       "      <td>1</td>\n",
       "      <td>1.062683</td>\n",
       "      <td>0.889721</td>\n",
       "    </tr>\n",
       "    <tr>\n",
       "      <th>2021-03-01</th>\n",
       "      <td>-1</td>\n",
       "      <td>1</td>\n",
       "      <td>1.060884</td>\n",
       "      <td>0.971311</td>\n",
       "    </tr>\n",
       "    <tr>\n",
       "      <th>2021-03-02</th>\n",
       "      <td>-1</td>\n",
       "      <td>1</td>\n",
       "      <td>1.064364</td>\n",
       "      <td>1.05715</td>\n",
       "    </tr>\n",
       "    <tr>\n",
       "      <th>2021-03-03</th>\n",
       "      <td>-1</td>\n",
       "      <td>1</td>\n",
       "      <td>1.086933</td>\n",
       "      <td>1.350656</td>\n",
       "    </tr>\n",
       "    <tr>\n",
       "      <th>2021-03-04</th>\n",
       "      <td>-1</td>\n",
       "      <td>1</td>\n",
       "      <td>1.081896</td>\n",
       "      <td>0.942058</td>\n",
       "    </tr>\n",
       "    <tr>\n",
       "      <th>2021-03-05</th>\n",
       "      <td>0</td>\n",
       "      <td>0</td>\n",
       "      <td>1.090099</td>\n",
       "      <td>1.100165</td>\n",
       "    </tr>\n",
       "    <tr>\n",
       "      <th>2021-03-08</th>\n",
       "      <td>1</td>\n",
       "      <td>-1</td>\n",
       "      <td>1.090099</td>\n",
       "      <td>1.0</td>\n",
       "    </tr>\n",
       "    <tr>\n",
       "      <th>2021-03-09</th>\n",
       "      <td>1</td>\n",
       "      <td>-1</td>\n",
       "      <td>1.1253</td>\n",
       "      <td>1.390683</td>\n",
       "    </tr>\n",
       "    <tr>\n",
       "      <th>2021-03-10</th>\n",
       "      <td>1</td>\n",
       "      <td>-1</td>\n",
       "      <td>1.10613</td>\n",
       "      <td>0.847007</td>\n",
       "    </tr>\n",
       "    <tr>\n",
       "      <th>2021-03-12</th>\n",
       "      <td>1</td>\n",
       "      <td>-1</td>\n",
       "      <td>1.095487</td>\n",
       "      <td>0.899716</td>\n",
       "    </tr>\n",
       "    <tr>\n",
       "      <th>2021-03-15</th>\n",
       "      <td>1</td>\n",
       "      <td>-1</td>\n",
       "      <td>1.092838</td>\n",
       "      <td>0.972261</td>\n",
       "    </tr>\n",
       "    <tr>\n",
       "      <th>2021-03-16</th>\n",
       "      <td>1</td>\n",
       "      <td>-1</td>\n",
       "      <td>1.113293</td>\n",
       "      <td>1.220329</td>\n",
       "    </tr>\n",
       "  </tbody>\n",
       "</table>\n",
       "</div>"
      ],
      "text/plain": [
       "           NDX MID     cumpl       dret\n",
       "Date                                   \n",
       "2021-01-27   0   0       1.0        NaN\n",
       "2021-01-28  -1   1       1.0        NaN\n",
       "2021-01-29  -1   1  1.000815        inf\n",
       "2021-02-01  -1   1  0.996759   -3.97819\n",
       "2021-02-02  -1   1   0.99323   2.088695\n",
       "2021-02-03  -1   1  0.997809   0.323639\n",
       "2021-02-04  -1   1  0.999751   0.113501\n",
       "2021-02-05  -1   1  1.006411 -25.782542\n",
       "2021-02-08  -1   1  1.015853   2.472672\n",
       "2021-02-09  -1   1  1.018907   1.192598\n",
       "2021-02-10  -1   1  1.019703   1.042112\n",
       "2021-02-16  -1   1  1.018958   0.962176\n",
       "2021-02-17  -1   1  1.018971   1.000709\n",
       "2021-02-18  -1   1  1.011799   0.621942\n",
       "2021-02-19  -1   1  1.031485   2.668509\n",
       "2021-02-22  -1   1  1.055919   1.776029\n",
       "2021-02-24   0   0  1.070452   1.259895\n",
       "2021-02-25  -1   1  1.070452        1.0\n",
       "2021-02-26  -1   1  1.062683   0.889721\n",
       "2021-03-01  -1   1  1.060884   0.971311\n",
       "2021-03-02  -1   1  1.064364    1.05715\n",
       "2021-03-03  -1   1  1.086933   1.350656\n",
       "2021-03-04  -1   1  1.081896   0.942058\n",
       "2021-03-05   0   0  1.090099   1.100165\n",
       "2021-03-08   1  -1  1.090099        1.0\n",
       "2021-03-09   1  -1    1.1253   1.390683\n",
       "2021-03-10   1  -1   1.10613   0.847007\n",
       "2021-03-12   1  -1  1.095487   0.899716\n",
       "2021-03-15   1  -1  1.092838   0.972261\n",
       "2021-03-16   1  -1  1.113293   1.220329"
      ]
     },
     "execution_count": 80,
     "metadata": {},
     "output_type": "execute_result"
    }
   ],
   "source": [
    "result_test = backtest(signal_test, ret_test)\n",
    "result_test.head(30)"
   ]
  },
  {
   "cell_type": "code",
   "execution_count": 38,
   "id": "5d6d54b8",
   "metadata": {},
   "outputs": [
    {
     "data": {
      "text/plain": [
       "354"
      ]
     },
     "execution_count": 38,
     "metadata": {},
     "output_type": "execute_result"
    }
   ],
   "source": [
    "n_trades = len(result_test) - (signal_test == 0).astype(int).sum(axis=0)[0]\n",
    "n_trades"
   ]
  },
  {
   "cell_type": "code",
   "execution_count": 39,
   "id": "05bb4b33",
   "metadata": {},
   "outputs": [],
   "source": [
    "def maxdd(s):\n",
    "    hwm = s['cumpl'].cummax()\n",
    "    dd = (1 + hwm)/(1 + s.cumpl) - 1\n",
    "    return max(dd)\n"
   ]
  },
  {
   "cell_type": "code",
   "execution_count": 40,
   "id": "f48b1f9f",
   "metadata": {},
   "outputs": [
    {
     "data": {
      "text/plain": [
       "0.06981634166799444"
      ]
     },
     "execution_count": 40,
     "metadata": {},
     "output_type": "execute_result"
    }
   ],
   "source": [
    "mdd = maxdd(result_test)\n",
    "mdd"
   ]
  },
  {
   "cell_type": "code",
   "execution_count": 41,
   "id": "c4d5df2d",
   "metadata": {},
   "outputs": [
    {
     "data": {
      "text/plain": [
       "0.559322033898305"
      ]
     },
     "execution_count": 41,
     "metadata": {},
     "output_type": "execute_result"
    }
   ],
   "source": [
    "win_rate = (result_test['dret'] > 1).astype(int).sum(axis=0) / n_trades\n",
    "win_rate"
   ]
  },
  {
   "cell_type": "code",
   "execution_count": 42,
   "id": "a050281b",
   "metadata": {},
   "outputs": [],
   "source": [
    "ret_test_cpy = ret_test.iloc[1:, :]\n",
    "\n",
    "# result_test['X_adj'] = ret_test.iloc[:,0]/ret_test.iloc[1,0]\n",
    "# # result_test['Y_ADJ']"
   ]
  },
  {
   "cell_type": "code",
   "execution_count": 43,
   "id": "fef4af0c",
   "metadata": {
    "scrolled": false
   },
   "outputs": [],
   "source": [
    "ret_test_cpy['X_adj'] = ret_test_cpy.iloc[:,0] / ret_test_cpy.iloc[0,0]\n",
    "ret_test_cpy['Y_adj'] = ret_test_cpy.iloc[:,1] / ret_test_cpy.iloc[1,1]"
   ]
  },
  {
   "cell_type": "code",
   "execution_count": 44,
   "id": "ee7dcccd",
   "metadata": {
    "scrolled": false
   },
   "outputs": [
    {
     "data": {
      "text/plain": [
       "<AxesSubplot: xlabel='Date'>"
      ]
     },
     "execution_count": 44,
     "metadata": {},
     "output_type": "execute_result"
    },
    {
     "data": {
      "text/plain": [
       "<AxesSubplot: xlabel='Date'>"
      ]
     },
     "execution_count": 44,
     "metadata": {},
     "output_type": "execute_result"
    },
    {
     "data": {
      "text/plain": [
       "Text(0.5, 0, 'Date')"
      ]
     },
     "execution_count": 44,
     "metadata": {},
     "output_type": "execute_result"
    },
    {
     "data": {
      "text/plain": [
       "Text(0, 0.5, 'Terminal Value Mutiplier')"
      ]
     },
     "execution_count": 44,
     "metadata": {},
     "output_type": "execute_result"
    },
    {
     "data": {
      "image/png": "[encoded data removed]",
      "text/plain": [
       "<Figure size 640x480 with 1 Axes>"
      ]
     },
     "metadata": {},
     "output_type": "display_data"
    }
   ],
   "source": [
    "ax = result_test['cumpl'].plot()\n",
    "ret_test_cpy.X_adj.plot(ax=ax, c='grey')\n",
    "ret_test_cpy.Y_adj.plot(ax=ax, c='grey')\n",
    "plt.xlabel(\"Date\")\n",
    "plt.ylabel(\"Terminal Value Mutiplier\")"
   ]
  },
  {
   "cell_type": "markdown",
   "id": "357b369c",
   "metadata": {},
   "source": [
    "# SIGNAL 2"
   ]
  },
  {
   "cell_type": "code",
   "execution_count": 45,
   "id": "7506b2a7",
   "metadata": {},
   "outputs": [
    {
     "data": {
      "image/png": "[encoded data removed]",
      "text/plain": [
       "<Figure size 640x480 with 2 Axes>"
      ]
     },
     "metadata": {},
     "output_type": "display_data"
    }
   ],
   "source": [
    "upthreshold = 0.75\n",
    "lowerthreshold = 0.25\n",
    "\n",
    "generate_signal(df_test)\n",
    "fig, axs = plt.subplots(2)\n",
    "_ = axs[0].plot(df_test['X_position'])\n",
    "_ = axs[1].plot(df_test['Y_position'])\n",
    "\n",
    "_ =axs[0].set(ylabel=f\"{feature} Signals\")\n",
    "_ = axs[1].set(ylabel=f\"{target} Signals\")\n",
    "_ = plt.xlabel('Date')"
   ]
  },
  {
   "cell_type": "code",
   "execution_count": 46,
   "id": "e6d545ba",
   "metadata": {},
   "outputs": [],
   "source": [
    "signal_test2 = df_test[['X_position', 'Y_position']].rename(columns={'X_position': f'{feature}', 'Y_position': f'{target}'})\n",
    "result_test2 = backtest(signal_test2, ret_test)\n"
   ]
  },
  {
   "cell_type": "code",
   "execution_count": 47,
   "id": "e44adb30",
   "metadata": {},
   "outputs": [
    {
     "data": {
      "text/plain": [
       "345"
      ]
     },
     "execution_count": 47,
     "metadata": {},
     "output_type": "execute_result"
    }
   ],
   "source": [
    "n_trades2 = len(result_test2) - (signal_test2 == 0).astype(int).sum(axis=0)[0]\n",
    "n_trades2"
   ]
  },
  {
   "cell_type": "code",
   "execution_count": 48,
   "id": "d6503ba8",
   "metadata": {},
   "outputs": [
    {
     "data": {
      "text/plain": [
       "0.553623188405797"
      ]
     },
     "execution_count": 48,
     "metadata": {},
     "output_type": "execute_result"
    }
   ],
   "source": [
    "win_rate2 = (result_test2.dret > 1).astype(int).sum(axis=0) / n_trades2\n",
    "win_rate2"
   ]
  },
  {
   "cell_type": "code",
   "execution_count": 49,
   "id": "722325cb",
   "metadata": {},
   "outputs": [
    {
     "data": {
      "text/plain": [
       "0.07175891543788016"
      ]
     },
     "execution_count": 49,
     "metadata": {},
     "output_type": "execute_result"
    }
   ],
   "source": [
    "mdd2 = maxdd(result_test2)\n",
    "mdd2"
   ]
  },
  {
   "cell_type": "code",
   "execution_count": 50,
   "id": "adf9ec97",
   "metadata": {},
   "outputs": [
    {
     "data": {
      "text/html": [
       "<div>\n",
       "<style scoped>\n",
       "    .dataframe tbody tr th:only-of-type {\n",
       "        vertical-align: middle;\n",
       "    }\n",
       "\n",
       "    .dataframe tbody tr th {\n",
       "        vertical-align: top;\n",
       "    }\n",
       "\n",
       "    .dataframe thead th {\n",
       "        text-align: right;\n",
       "    }\n",
       "</style>\n",
       "<table border=\"1\" class=\"dataframe\">\n",
       "  <thead>\n",
       "    <tr style=\"text-align: right;\">\n",
       "      <th></th>\n",
       "      <th>NDX</th>\n",
       "      <th>MID</th>\n",
       "      <th>cumpl</th>\n",
       "      <th>dret</th>\n",
       "    </tr>\n",
       "    <tr>\n",
       "      <th>Date</th>\n",
       "      <th></th>\n",
       "      <th></th>\n",
       "      <th></th>\n",
       "      <th></th>\n",
       "    </tr>\n",
       "  </thead>\n",
       "  <tbody>\n",
       "    <tr>\n",
       "      <th>2023-01-20</th>\n",
       "      <td>0</td>\n",
       "      <td>0</td>\n",
       "      <td>1.669672</td>\n",
       "      <td>1.029386</td>\n",
       "    </tr>\n",
       "  </tbody>\n",
       "</table>\n",
       "</div>"
      ],
      "text/plain": [
       "           NDX MID     cumpl      dret\n",
       "Date                                  \n",
       "2023-01-20   0   0  1.669672  1.029386"
      ]
     },
     "execution_count": 50,
     "metadata": {},
     "output_type": "execute_result"
    }
   ],
   "source": [
    "result_test2.tail(1)"
   ]
  },
  {
   "cell_type": "markdown",
   "id": "51dccb7b",
   "metadata": {},
   "source": [
    "# SIGNAL 3"
   ]
  },
  {
   "cell_type": "code",
   "execution_count": 51,
   "id": "8810b440",
   "metadata": {},
   "outputs": [
    {
     "data": {
      "image/png": "[encoded data removed]",
      "text/plain": [
       "<Figure size 640x480 with 2 Axes>"
      ]
     },
     "metadata": {},
     "output_type": "display_data"
    }
   ],
   "source": [
    "upthreshold = 0.85\n",
    "lowerthreshold = 0.15\n",
    "\n",
    "generate_signal(df_test)\n",
    "fig, axs = plt.subplots(2)\n",
    "_ = axs[0].plot(df_test['X_position'])\n",
    "_ = axs[1].plot(df_test['Y_position'])\n",
    "\n",
    "_ =axs[0].set(ylabel=f\"{feature} Signals\")\n",
    "_ = axs[1].set(ylabel=f\"{target} Signals\")\n",
    "_ = plt.xlabel('Date')"
   ]
  },
  {
   "cell_type": "code",
   "execution_count": 52,
   "id": "24a7cffe",
   "metadata": {},
   "outputs": [],
   "source": [
    "signal_test3 = df_test[['X_position', 'Y_position']].rename(columns={'X_position': f'{feature}', 'Y_position': f'{target}'})\n",
    "result_test3 = backtest(signal_test3, ret_test)"
   ]
  },
  {
   "cell_type": "code",
   "execution_count": 53,
   "id": "b3a6648e",
   "metadata": {},
   "outputs": [
    {
     "data": {
      "text/plain": [
       "320"
      ]
     },
     "execution_count": 53,
     "metadata": {},
     "output_type": "execute_result"
    }
   ],
   "source": [
    "n_trades3 = len(result_test3) - (signal_test3 == 0).astype(int).sum(axis=0)[0]\n",
    "n_trades3"
   ]
  },
  {
   "cell_type": "code",
   "execution_count": 54,
   "id": "444c883a",
   "metadata": {},
   "outputs": [
    {
     "data": {
      "text/plain": [
       "0.559375"
      ]
     },
     "execution_count": 54,
     "metadata": {},
     "output_type": "execute_result"
    }
   ],
   "source": [
    "win_rate3 = (result_test3.dret > 1).astype(int).sum(axis=0) / n_trades3\n",
    "win_rate3"
   ]
  },
  {
   "cell_type": "code",
   "execution_count": 55,
   "id": "1fddf699",
   "metadata": {},
   "outputs": [
    {
     "data": {
      "text/plain": [
       "0.05726377364041868"
      ]
     },
     "execution_count": 55,
     "metadata": {},
     "output_type": "execute_result"
    }
   ],
   "source": [
    "mdd3 = maxdd(result_test3)\n",
    "mdd3"
   ]
  },
  {
   "cell_type": "code",
   "execution_count": 56,
   "id": "c4140ed6",
   "metadata": {},
   "outputs": [
    {
     "data": {
      "text/html": [
       "<div>\n",
       "<style scoped>\n",
       "    .dataframe tbody tr th:only-of-type {\n",
       "        vertical-align: middle;\n",
       "    }\n",
       "\n",
       "    .dataframe tbody tr th {\n",
       "        vertical-align: top;\n",
       "    }\n",
       "\n",
       "    .dataframe thead th {\n",
       "        text-align: right;\n",
       "    }\n",
       "</style>\n",
       "<table border=\"1\" class=\"dataframe\">\n",
       "  <thead>\n",
       "    <tr style=\"text-align: right;\">\n",
       "      <th></th>\n",
       "      <th>NDX</th>\n",
       "      <th>MID</th>\n",
       "      <th>cumpl</th>\n",
       "      <th>dret</th>\n",
       "    </tr>\n",
       "    <tr>\n",
       "      <th>Date</th>\n",
       "      <th></th>\n",
       "      <th></th>\n",
       "      <th></th>\n",
       "      <th></th>\n",
       "    </tr>\n",
       "  </thead>\n",
       "  <tbody>\n",
       "    <tr>\n",
       "      <th>2023-01-20</th>\n",
       "      <td>0</td>\n",
       "      <td>0</td>\n",
       "      <td>1.660168</td>\n",
       "      <td>1.029647</td>\n",
       "    </tr>\n",
       "  </tbody>\n",
       "</table>\n",
       "</div>"
      ],
      "text/plain": [
       "           NDX MID     cumpl      dret\n",
       "Date                                  \n",
       "2023-01-20   0   0  1.660168  1.029647"
      ]
     },
     "execution_count": 56,
     "metadata": {},
     "output_type": "execute_result"
    }
   ],
   "source": [
    "result_test3.tail(1)"
   ]
  },
  {
   "cell_type": "markdown",
   "id": "a1eebea4",
   "metadata": {},
   "source": [
    "# SIGNAL 4"
   ]
  },
  {
   "cell_type": "code",
   "execution_count": 57,
   "id": "1dd621d6",
   "metadata": {
    "scrolled": false
   },
   "outputs": [
    {
     "data": {
      "image/png": "[encoded data removed]",
      "text/plain": [
       "<Figure size 640x480 with 2 Axes>"
      ]
     },
     "metadata": {},
     "output_type": "display_data"
    }
   ],
   "source": [
    "upthreshold = 0.95\n",
    "lowerthreshold = 0.05\n",
    "\n",
    "generate_signal(df_test)\n",
    "fig, axs = plt.subplots(2)\n",
    "_ = axs[0].plot(df_test['X_position'])\n",
    "_ = axs[1].plot(df_test['Y_position'])\n",
    "\n",
    "_ =axs[0].set(ylabel=f\"{feature} Signals\")\n",
    "_ = axs[1].set(ylabel=f\"{target} Signals\")\n",
    "_ = plt.xlabel('Date')"
   ]
  },
  {
   "cell_type": "code",
   "execution_count": 58,
   "id": "b3532a06",
   "metadata": {},
   "outputs": [],
   "source": [
    "signal_test4 = df_test[['X_position', 'Y_position']].rename(columns={'X_position': f'{feature}', 'Y_position': f'{target}'})\n",
    "result_test4 = backtest(signal_test4, ret_test)"
   ]
  },
  {
   "cell_type": "code",
   "execution_count": 59,
   "id": "73969656",
   "metadata": {},
   "outputs": [
    {
     "data": {
      "text/plain": [
       "222"
      ]
     },
     "execution_count": 59,
     "metadata": {},
     "output_type": "execute_result"
    }
   ],
   "source": [
    "n_trades4 = len(result_test4) - (signal_test4 == 0).astype(int).sum(axis=0)[0]\n",
    "n_trades4"
   ]
  },
  {
   "cell_type": "code",
   "execution_count": 60,
   "id": "798d4e90",
   "metadata": {},
   "outputs": [
    {
     "data": {
      "text/plain": [
       "0.5495495495495496"
      ]
     },
     "execution_count": 60,
     "metadata": {},
     "output_type": "execute_result"
    }
   ],
   "source": [
    "win_rate4 = (result_test4.dret > 1).astype(int).sum(axis=0) / n_trades4\n",
    "win_rate4"
   ]
  },
  {
   "cell_type": "code",
   "execution_count": 61,
   "id": "e46b8362",
   "metadata": {
    "scrolled": true
   },
   "outputs": [
    {
     "data": {
      "text/plain": [
       "0.05152456579467679"
      ]
     },
     "execution_count": 61,
     "metadata": {},
     "output_type": "execute_result"
    }
   ],
   "source": [
    "mdd4 = maxdd(result_test4)\n",
    "mdd4"
   ]
  },
  {
   "cell_type": "code",
   "execution_count": 62,
   "id": "0c7e2bc4",
   "metadata": {},
   "outputs": [
    {
     "data": {
      "text/html": [
       "<div>\n",
       "<style scoped>\n",
       "    .dataframe tbody tr th:only-of-type {\n",
       "        vertical-align: middle;\n",
       "    }\n",
       "\n",
       "    .dataframe tbody tr th {\n",
       "        vertical-align: top;\n",
       "    }\n",
       "\n",
       "    .dataframe thead th {\n",
       "        text-align: right;\n",
       "    }\n",
       "</style>\n",
       "<table border=\"1\" class=\"dataframe\">\n",
       "  <thead>\n",
       "    <tr style=\"text-align: right;\">\n",
       "      <th></th>\n",
       "      <th>NDX</th>\n",
       "      <th>MID</th>\n",
       "      <th>cumpl</th>\n",
       "      <th>dret</th>\n",
       "    </tr>\n",
       "    <tr>\n",
       "      <th>Date</th>\n",
       "      <th></th>\n",
       "      <th></th>\n",
       "      <th></th>\n",
       "      <th></th>\n",
       "    </tr>\n",
       "  </thead>\n",
       "  <tbody>\n",
       "    <tr>\n",
       "      <th>2023-01-20</th>\n",
       "      <td>0</td>\n",
       "      <td>0</td>\n",
       "      <td>1.33359</td>\n",
       "      <td>1.047967</td>\n",
       "    </tr>\n",
       "  </tbody>\n",
       "</table>\n",
       "</div>"
      ],
      "text/plain": [
       "           NDX MID    cumpl      dret\n",
       "Date                                 \n",
       "2023-01-20   0   0  1.33359  1.047967"
      ]
     },
     "execution_count": 62,
     "metadata": {},
     "output_type": "execute_result"
    }
   ],
   "source": [
    "result_test4.tail(1)"
   ]
  },
  {
   "cell_type": "markdown",
   "id": "8a97b322",
   "metadata": {},
   "source": [
    "# SIGNAL 5\n"
   ]
  },
  {
   "cell_type": "code",
   "execution_count": 63,
   "id": "48b809de",
   "metadata": {},
   "outputs": [
    {
     "data": {
      "image/png": "[encoded data removed]",
      "text/plain": [
       "<Figure size 640x480 with 2 Axes>"
      ]
     },
     "metadata": {},
     "output_type": "display_data"
    }
   ],
   "source": [
    "upthreshold = 0.55\n",
    "lowerthreshold = 0.45\n",
    "\n",
    "generate_signal(df_test)\n",
    "fig, axs = plt.subplots(2)\n",
    "_ = axs[0].plot(df_test['X_position'])\n",
    "_ = axs[1].plot(df_test['Y_position'])\n",
    "\n",
    "_ =axs[0].set(ylabel=f\"{feature} Signals\")\n",
    "_ = axs[1].set(ylabel=f\"{target} Signals\")\n",
    "_ = plt.xlabel('Date')"
   ]
  },
  {
   "cell_type": "code",
   "execution_count": 64,
   "id": "edd8430b",
   "metadata": {},
   "outputs": [],
   "source": [
    "signal_test5 = df_test[['X_position', 'Y_position']].rename(columns={'X_position': f'{feature}', 'Y_position': f'{target}'})\n",
    "result_test5 = backtest(signal_test5, ret_test)"
   ]
  },
  {
   "cell_type": "code",
   "execution_count": 65,
   "id": "3f2791b3",
   "metadata": {},
   "outputs": [
    {
     "data": {
      "text/plain": [
       "360"
      ]
     },
     "execution_count": 65,
     "metadata": {},
     "output_type": "execute_result"
    }
   ],
   "source": [
    "n_trades5 = len(result_test5) - (signal_test5 == 0).astype(int).sum(axis=0)[0]\n",
    "n_trades5"
   ]
  },
  {
   "cell_type": "code",
   "execution_count": 66,
   "id": "fab5c008",
   "metadata": {},
   "outputs": [
    {
     "data": {
      "text/plain": [
       "0.5527777777777778"
      ]
     },
     "execution_count": 66,
     "metadata": {},
     "output_type": "execute_result"
    }
   ],
   "source": [
    "win_rate5 = (result_test5.dret > 1).astype(int).sum(axis=0) / n_trades5\n",
    "win_rate5"
   ]
  },
  {
   "cell_type": "code",
   "execution_count": 67,
   "id": "2f34f746",
   "metadata": {},
   "outputs": [
    {
     "data": {
      "text/plain": [
       "0.07614268536905722"
      ]
     },
     "execution_count": 67,
     "metadata": {},
     "output_type": "execute_result"
    }
   ],
   "source": [
    "mdd5 = maxdd(result_test5)\n",
    "mdd5"
   ]
  },
  {
   "cell_type": "code",
   "execution_count": 68,
   "id": "d4b3ef4f",
   "metadata": {},
   "outputs": [
    {
     "data": {
      "text/html": [
       "<div>\n",
       "<style scoped>\n",
       "    .dataframe tbody tr th:only-of-type {\n",
       "        vertical-align: middle;\n",
       "    }\n",
       "\n",
       "    .dataframe tbody tr th {\n",
       "        vertical-align: top;\n",
       "    }\n",
       "\n",
       "    .dataframe thead th {\n",
       "        text-align: right;\n",
       "    }\n",
       "</style>\n",
       "<table border=\"1\" class=\"dataframe\">\n",
       "  <thead>\n",
       "    <tr style=\"text-align: right;\">\n",
       "      <th></th>\n",
       "      <th>NDX</th>\n",
       "      <th>MID</th>\n",
       "      <th>cumpl</th>\n",
       "      <th>dret</th>\n",
       "    </tr>\n",
       "    <tr>\n",
       "      <th>Date</th>\n",
       "      <th></th>\n",
       "      <th></th>\n",
       "      <th></th>\n",
       "      <th></th>\n",
       "    </tr>\n",
       "  </thead>\n",
       "  <tbody>\n",
       "    <tr>\n",
       "      <th>2023-01-20</th>\n",
       "      <td>0</td>\n",
       "      <td>0</td>\n",
       "      <td>1.75187</td>\n",
       "      <td>1.027409</td>\n",
       "    </tr>\n",
       "  </tbody>\n",
       "</table>\n",
       "</div>"
      ],
      "text/plain": [
       "           NDX MID    cumpl      dret\n",
       "Date                                 \n",
       "2023-01-20   0   0  1.75187  1.027409"
      ]
     },
     "execution_count": 68,
     "metadata": {},
     "output_type": "execute_result"
    }
   ],
   "source": [
    "result_test5.tail(1)"
   ]
  },
  {
   "cell_type": "code",
   "execution_count": 69,
   "id": "64d693f9",
   "metadata": {},
   "outputs": [
    {
     "data": {
      "text/html": [
       "<div>\n",
       "<style scoped>\n",
       "    .dataframe tbody tr th:only-of-type {\n",
       "        vertical-align: middle;\n",
       "    }\n",
       "\n",
       "    .dataframe tbody tr th {\n",
       "        vertical-align: top;\n",
       "    }\n",
       "\n",
       "    .dataframe thead th {\n",
       "        text-align: right;\n",
       "    }\n",
       "</style>\n",
       "<table border=\"1\" class=\"dataframe\">\n",
       "  <thead>\n",
       "    <tr style=\"text-align: right;\">\n",
       "      <th></th>\n",
       "      <th>NDX</th>\n",
       "      <th>MID</th>\n",
       "      <th>X_ret</th>\n",
       "      <th>Y_ret</th>\n",
       "      <th>ratio</th>\n",
       "      <th>X_adj</th>\n",
       "      <th>Y_adj</th>\n",
       "      <th>X</th>\n",
       "      <th>Y</th>\n",
       "    </tr>\n",
       "    <tr>\n",
       "      <th>Date</th>\n",
       "      <th></th>\n",
       "      <th></th>\n",
       "      <th></th>\n",
       "      <th></th>\n",
       "      <th></th>\n",
       "      <th></th>\n",
       "      <th></th>\n",
       "      <th></th>\n",
       "      <th></th>\n",
       "    </tr>\n",
       "  </thead>\n",
       "  <tbody>\n",
       "    <tr>\n",
       "      <th>2021-01-28</th>\n",
       "      <td>13201.53</td>\n",
       "      <td>2388.21</td>\n",
       "      <td>0.006778</td>\n",
       "      <td>0.008850</td>\n",
       "      <td>0.180904</td>\n",
       "      <td>1.000000</td>\n",
       "      <td>1.020550</td>\n",
       "      <td>1.000000</td>\n",
       "      <td>1.000000</td>\n",
       "    </tr>\n",
       "    <tr>\n",
       "      <th>2021-01-29</th>\n",
       "      <td>12925.38</td>\n",
       "      <td>2340.12</td>\n",
       "      <td>-0.020918</td>\n",
       "      <td>-0.020136</td>\n",
       "      <td>0.181048</td>\n",
       "      <td>0.979082</td>\n",
       "      <td>1.000000</td>\n",
       "      <td>0.979082</td>\n",
       "      <td>0.979864</td>\n",
       "    </tr>\n",
       "    <tr>\n",
       "      <th>2021-02-01</th>\n",
       "      <td>13248.90</td>\n",
       "      <td>2388.77</td>\n",
       "      <td>0.025030</td>\n",
       "      <td>0.020790</td>\n",
       "      <td>0.180299</td>\n",
       "      <td>1.003588</td>\n",
       "      <td>1.020790</td>\n",
       "      <td>1.003588</td>\n",
       "      <td>1.000234</td>\n",
       "    </tr>\n",
       "    <tr>\n",
       "      <th>2021-02-02</th>\n",
       "      <td>13456.12</td>\n",
       "      <td>2417.44</td>\n",
       "      <td>0.015641</td>\n",
       "      <td>0.012002</td>\n",
       "      <td>0.179654</td>\n",
       "      <td>1.019285</td>\n",
       "      <td>1.033041</td>\n",
       "      <td>1.019285</td>\n",
       "      <td>1.012239</td>\n",
       "    </tr>\n",
       "    <tr>\n",
       "      <th>2021-02-03</th>\n",
       "      <td>13402.37</td>\n",
       "      <td>2418.89</td>\n",
       "      <td>-0.003994</td>\n",
       "      <td>0.000600</td>\n",
       "      <td>0.180482</td>\n",
       "      <td>1.015213</td>\n",
       "      <td>1.033661</td>\n",
       "      <td>1.015213</td>\n",
       "      <td>1.012846</td>\n",
       "    </tr>\n",
       "    <tr>\n",
       "      <th>...</th>\n",
       "      <td>...</td>\n",
       "      <td>...</td>\n",
       "      <td>...</td>\n",
       "      <td>...</td>\n",
       "      <td>...</td>\n",
       "      <td>...</td>\n",
       "      <td>...</td>\n",
       "      <td>...</td>\n",
       "      <td>...</td>\n",
       "    </tr>\n",
       "    <tr>\n",
       "      <th>2023-01-13</th>\n",
       "      <td>11541.48</td>\n",
       "      <td>2580.91</td>\n",
       "      <td>0.007144</td>\n",
       "      <td>0.004882</td>\n",
       "      <td>0.223620</td>\n",
       "      <td>0.874253</td>\n",
       "      <td>1.102896</td>\n",
       "      <td>0.874253</td>\n",
       "      <td>1.080688</td>\n",
       "    </tr>\n",
       "    <tr>\n",
       "      <th>2023-01-17</th>\n",
       "      <td>11557.19</td>\n",
       "      <td>2575.61</td>\n",
       "      <td>0.001361</td>\n",
       "      <td>-0.002054</td>\n",
       "      <td>0.222858</td>\n",
       "      <td>0.875443</td>\n",
       "      <td>1.100632</td>\n",
       "      <td>0.875443</td>\n",
       "      <td>1.078469</td>\n",
       "    </tr>\n",
       "    <tr>\n",
       "      <th>2023-01-18</th>\n",
       "      <td>11410.29</td>\n",
       "      <td>2543.36</td>\n",
       "      <td>-0.012711</td>\n",
       "      <td>-0.012521</td>\n",
       "      <td>0.222901</td>\n",
       "      <td>0.864316</td>\n",
       "      <td>1.086850</td>\n",
       "      <td>0.864316</td>\n",
       "      <td>1.064965</td>\n",
       "    </tr>\n",
       "    <tr>\n",
       "      <th>2023-01-19</th>\n",
       "      <td>11295.67</td>\n",
       "      <td>2516.89</td>\n",
       "      <td>-0.010045</td>\n",
       "      <td>-0.010407</td>\n",
       "      <td>0.222819</td>\n",
       "      <td>0.855633</td>\n",
       "      <td>1.075539</td>\n",
       "      <td>0.855633</td>\n",
       "      <td>1.053881</td>\n",
       "    </tr>\n",
       "    <tr>\n",
       "      <th>2023-01-20</th>\n",
       "      <td>11619.03</td>\n",
       "      <td>2558.46</td>\n",
       "      <td>0.028627</td>\n",
       "      <td>0.016516</td>\n",
       "      <td>0.220196</td>\n",
       "      <td>0.880128</td>\n",
       "      <td>1.093303</td>\n",
       "      <td>0.880128</td>\n",
       "      <td>1.071288</td>\n",
       "    </tr>\n",
       "  </tbody>\n",
       "</table>\n",
       "<p>413 rows × 9 columns</p>\n",
       "</div>"
      ],
      "text/plain": [
       "                 NDX      MID     X_ret     Y_ret     ratio     X_adj  \\\n",
       "Date                                                                    \n",
       "2021-01-28  13201.53  2388.21  0.006778  0.008850  0.180904  1.000000   \n",
       "2021-01-29  12925.38  2340.12 -0.020918 -0.020136  0.181048  0.979082   \n",
       "2021-02-01  13248.90  2388.77  0.025030  0.020790  0.180299  1.003588   \n",
       "2021-02-02  13456.12  2417.44  0.015641  0.012002  0.179654  1.019285   \n",
       "2021-02-03  13402.37  2418.89 -0.003994  0.000600  0.180482  1.015213   \n",
       "...              ...      ...       ...       ...       ...       ...   \n",
       "2023-01-13  11541.48  2580.91  0.007144  0.004882  0.223620  0.874253   \n",
       "2023-01-17  11557.19  2575.61  0.001361 -0.002054  0.222858  0.875443   \n",
       "2023-01-18  11410.29  2543.36 -0.012711 -0.012521  0.222901  0.864316   \n",
       "2023-01-19  11295.67  2516.89 -0.010045 -0.010407  0.222819  0.855633   \n",
       "2023-01-20  11619.03  2558.46  0.028627  0.016516  0.220196  0.880128   \n",
       "\n",
       "               Y_adj         X         Y  \n",
       "Date                                      \n",
       "2021-01-28  1.020550  1.000000  1.000000  \n",
       "2021-01-29  1.000000  0.979082  0.979864  \n",
       "2021-02-01  1.020790  1.003588  1.000234  \n",
       "2021-02-02  1.033041  1.019285  1.012239  \n",
       "2021-02-03  1.033661  1.015213  1.012846  \n",
       "...              ...       ...       ...  \n",
       "2023-01-13  1.102896  0.874253  1.080688  \n",
       "2023-01-17  1.100632  0.875443  1.078469  \n",
       "2023-01-18  1.086850  0.864316  1.064965  \n",
       "2023-01-19  1.075539  0.855633  1.053881  \n",
       "2023-01-20  1.093303  0.880128  1.071288  \n",
       "\n",
       "[413 rows x 9 columns]"
      ]
     },
     "execution_count": 69,
     "metadata": {},
     "output_type": "execute_result"
    }
   ],
   "source": [
    "ret_test_cpy['X'] = ret_test_cpy.iloc[:,0] / ret_test_cpy.iloc[0,0]\n",
    "ret_test_cpy['Y'] = ret_test_cpy.iloc[:,1] / ret_test_cpy.iloc[0,1]\n",
    "\n",
    "ret_test_cpy"
   ]
  },
  {
   "cell_type": "code",
   "execution_count": 70,
   "id": "39874f51",
   "metadata": {
    "scrolled": false
   },
   "outputs": [
    {
     "data": {
      "text/plain": [
       "<AxesSubplot: xlabel='Date'>"
      ]
     },
     "execution_count": 70,
     "metadata": {},
     "output_type": "execute_result"
    },
    {
     "data": {
      "text/plain": [
       "<AxesSubplot: xlabel='Date'>"
      ]
     },
     "execution_count": 70,
     "metadata": {},
     "output_type": "execute_result"
    },
    {
     "data": {
      "text/plain": [
       "<AxesSubplot: xlabel='Date'>"
      ]
     },
     "execution_count": 70,
     "metadata": {},
     "output_type": "execute_result"
    },
    {
     "data": {
      "text/plain": [
       "<AxesSubplot: xlabel='Date'>"
      ]
     },
     "execution_count": 70,
     "metadata": {},
     "output_type": "execute_result"
    },
    {
     "data": {
      "text/plain": [
       "<AxesSubplot: xlabel='Date'>"
      ]
     },
     "execution_count": 70,
     "metadata": {},
     "output_type": "execute_result"
    },
    {
     "data": {
      "text/plain": [
       "<AxesSubplot: xlabel='Date'>"
      ]
     },
     "execution_count": 70,
     "metadata": {},
     "output_type": "execute_result"
    },
    {
     "data": {
      "text/plain": [
       "<matplotlib.legend.Legend at 0x29bad38ce20>"
      ]
     },
     "execution_count": 70,
     "metadata": {},
     "output_type": "execute_result"
    },
    {
     "data": {
      "text/plain": [
       "Text(0.5, 0, 'Date')"
      ]
     },
     "execution_count": 70,
     "metadata": {},
     "output_type": "execute_result"
    },
    {
     "data": {
      "text/plain": [
       "Text(0, 0.5, 'Terminal Value Mutiplier')"
      ]
     },
     "execution_count": 70,
     "metadata": {},
     "output_type": "execute_result"
    },
    {
     "data": {
      "image/png": "[encoded data removed]",
      "text/plain": [
       "<Figure size 640x480 with 1 Axes>"
      ]
     },
     "metadata": {},
     "output_type": "display_data"
    }
   ],
   "source": [
    "ax = result_test['cumpl'].plot(label='65-35')\n",
    "result_test2['cumpl'].plot(ax=ax, c='green', label='75-25')\n",
    "result_test3['cumpl'].plot(ax=ax, c='orange', label='85-15')\n",
    "result_test4['cumpl'].plot(ax=ax, c='red', label='95-05')\n",
    "result_test5['cumpl'].plot(ax=ax, c='blue', label='55-45')\n",
    "ret_test_cpy.X.plot(ax=ax, c='grey', label=f'{feature}')\n",
    "ret_test_cpy.Y.plot(ax=ax, c='grey', label=f'{target}')\n",
    "plt.legend(loc='upper left')\n",
    "\n",
    "plt.xlabel(\"Date\")\n",
    "plt.ylabel(\"Terminal Value Mutiplier\")"
   ]
  },
  {
   "cell_type": "code",
   "execution_count": null,
   "id": "40a33744",
   "metadata": {},
   "outputs": [],
   "source": []
  }
 ],
 "metadata": {
  "kernelspec": {
   "display_name": "Python 3 (ipykernel)",
   "language": "python",
   "name": "python3"
  },
  "language_info": {
   "codemirror_mode": {
    "name": "ipython",
    "version": 3
   },
   "file_extension": ".py",
   "mimetype": "text/x-python",
   "name": "python",
   "nbconvert_exporter": "python",
   "pygments_lexer": "ipython3",
   "version": "3.9.13"
  }
 },
 "nbformat": 4,
 "nbformat_minor": 5
}
